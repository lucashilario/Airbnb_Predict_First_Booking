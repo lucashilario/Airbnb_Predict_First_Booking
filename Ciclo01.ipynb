{
 "cells": [
  {
   "cell_type": "markdown",
   "id": "53725607",
   "metadata": {
    "heading_collapsed": true
   },
   "source": [
    "## O Problema"
   ]
  },
  {
   "cell_type": "markdown",
   "id": "20d7c34a",
   "metadata": {
    "hidden": true
   },
   "source": [
    "-- Objetivo do Problema:\n",
    "\n",
    "    -- 1.0. Previsão do primeiro destino que um novo usuário irá escolher\n",
    "    \n",
    "    -- Porque?\n",
    "    \n",
    "        -- Qual o tipo de modelo de negócio do Airbnb?\n",
    "        \n",
    "            -- Marketplace - Demanda x Oferta (Conectar pessoas que oferecem acomodação, com pessoas que estão procurando acomodação)\n",
    "            \n",
    "            -- Oferta (pessoas oferecendo acomodação)\n",
    "            \n",
    "                -- Métricas:\n",
    "                \n",
    "                    -- Tamanho do portifólio (país x cidade)\n",
    "                    \n",
    "                    -- Diversidade/Densidade de portifólio (Dentro de um país existem acomodações em todas as cidades ou só em algumas)\n",
    "                    \n",
    "                    -- Preço médio\n",
    "                    \n",
    "                -- Demanda (pessoas procurando acomodação):\n",
    "                \n",
    "                    -- Número de usuários\n",
    "                    \n",
    "                    -- Quanto o usuário gasta na plataforma\n",
    "                    \n",
    "                    -- Custo por cliente\n",
    "                    \n",
    "                     Receita = (Preço médio de comissão * Número de clientes) - Custo por cliente\n",
    "\n",
    "-- Proposta da solução\n",
    "\n",
    "    -- Modelo de previsão do primeiro destino de um novo usuário.\n",
    "    \n",
    "    -- Predições armazenadas em uma tabela no banco de dados.\n",
    "    \n",
    "    -- API\n",
    "    \n",
    "        -- Input: usuário e suas características.\n",
    "        \n",
    "        -- Output: usuário e suas características com a predição do destino."
   ]
  },
  {
   "cell_type": "markdown",
   "id": "1b95f098",
   "metadata": {},
   "source": [
    "# <font color=red> Ciclo-01 </font>"
   ]
  },
  {
   "cell_type": "markdown",
   "id": "2b09e4d6",
   "metadata": {},
   "source": [
    "## 0.0. Importação"
   ]
  },
  {
   "cell_type": "markdown",
   "id": "be3ec013",
   "metadata": {},
   "source": [
    "### 0.1. Funções"
   ]
  },
  {
   "cell_type": "code",
   "execution_count": 125,
   "id": "a599a846",
   "metadata": {
    "ExecuteTime": {
     "end_time": "2023-01-18T01:08:57.873166Z",
     "start_time": "2023-01-18T01:08:57.530386Z"
    }
   },
   "outputs": [],
   "source": [
    "import pandas as pd\n",
    "from sklearn import preprocessing as pp\n",
    "from sklearn import metrics as m\n",
    "from scikitplot import metrics as mt\n",
    "\n",
    "# Rede Neural\n",
    "from sklearn import model_selection as ms\n",
    "from keras import models as ml\n",
    "from keras import layers as l"
   ]
  },
  {
   "cell_type": "markdown",
   "id": "aeaec143",
   "metadata": {},
   "source": [
    "### 0.2. Carregando Dados"
   ]
  },
  {
   "cell_type": "code",
   "execution_count": 16,
   "id": "333b6cfd",
   "metadata": {
    "ExecuteTime": {
     "end_time": "2023-01-17T13:56:01.839640Z",
     "start_time": "2023-01-17T13:56:01.423122Z"
    }
   },
   "outputs": [
    {
     "data": {
      "text/plain": [
       "(213451, 16)"
      ]
     },
     "execution_count": 16,
     "metadata": {},
     "output_type": "execute_result"
    }
   ],
   "source": [
    "df_raw_users = pd.read_csv('dataset/training_users.csv', low_memory=True) #low_memory: carregar os dados em batchs\n",
    "df_raw_users.shape"
   ]
  },
  {
   "cell_type": "code",
   "execution_count": 17,
   "id": "4edd9424",
   "metadata": {
    "ExecuteTime": {
     "end_time": "2023-01-17T13:56:19.188515Z",
     "start_time": "2023-01-17T13:56:13.314698Z"
    }
   },
   "outputs": [
    {
     "data": {
      "text/plain": [
       "(10567737, 6)"
      ]
     },
     "execution_count": 17,
     "metadata": {},
     "output_type": "execute_result"
    }
   ],
   "source": [
    "df_raw_sessions = pd.read_csv('dataset/sessions.csv', low_memory=True)\n",
    "df_raw_sessions.shape"
   ]
  },
  {
   "cell_type": "code",
   "execution_count": 13,
   "id": "fb5aa5cd",
   "metadata": {
    "ExecuteTime": {
     "end_time": "2023-01-13T10:17:37.484273Z",
     "start_time": "2023-01-13T10:17:37.481747Z"
    }
   },
   "outputs": [],
   "source": [
    "#df_sessions[['action','user_id']].groupby('action').count()\n",
    "#df_sessions[['user_id','action']].value_counts()"
   ]
  },
  {
   "cell_type": "markdown",
   "id": "eec99e61",
   "metadata": {},
   "source": [
    "## 1.0. Descrição dos Dados"
   ]
  },
  {
   "cell_type": "code",
   "execution_count": 71,
   "id": "e3578b2a",
   "metadata": {
    "ExecuteTime": {
     "end_time": "2023-01-17T23:26:10.486004Z",
     "start_time": "2023-01-17T23:26:10.270450Z"
    }
   },
   "outputs": [],
   "source": [
    "df1_users = df_raw_users.copy()\n",
    "df1_sessions = df_raw_sessions.copy()"
   ]
  },
  {
   "cell_type": "code",
   "execution_count": 23,
   "id": "8ad3b766",
   "metadata": {
    "ExecuteTime": {
     "end_time": "2023-01-17T13:58:51.333293Z",
     "start_time": "2023-01-17T13:58:51.329958Z"
    },
    "scrolled": true
   },
   "outputs": [
    {
     "name": "stdout",
     "output_type": "stream",
     "text": [
      "Número de linhas df_users: 213451\n",
      "Número de colunas df_users : 16\n"
     ]
    }
   ],
   "source": [
    "print(f'Número de linhas df_users: {df1_users.shape[0]}')\n",
    "print(f'Número de colunas df_users : {df1_users.shape[1]}')"
   ]
  },
  {
   "cell_type": "code",
   "execution_count": 24,
   "id": "fc6d36fe",
   "metadata": {
    "ExecuteTime": {
     "end_time": "2023-01-17T13:58:52.427609Z",
     "start_time": "2023-01-17T13:58:52.424331Z"
    },
    "scrolled": true
   },
   "outputs": [
    {
     "name": "stdout",
     "output_type": "stream",
     "text": [
      "Número de linhas df_sessions: 10567737\n",
      "Número de colunas df_sessions: 6\n"
     ]
    }
   ],
   "source": [
    "print(f'Número de linhas df_sessions: {df1_sessions.shape[0]}')\n",
    "print(f'Número de colunas df_sessions: {df1_sessions.shape[1]}')"
   ]
  },
  {
   "cell_type": "code",
   "execution_count": 25,
   "id": "d700f045",
   "metadata": {
    "ExecuteTime": {
     "end_time": "2023-01-17T13:58:57.316806Z",
     "start_time": "2023-01-17T13:58:57.300126Z"
    },
    "scrolled": true
   },
   "outputs": [
    {
     "data": {
      "text/html": [
       "<div>\n",
       "<style scoped>\n",
       "    .dataframe tbody tr th:only-of-type {\n",
       "        vertical-align: middle;\n",
       "    }\n",
       "\n",
       "    .dataframe tbody tr th {\n",
       "        vertical-align: top;\n",
       "    }\n",
       "\n",
       "    .dataframe thead th {\n",
       "        text-align: right;\n",
       "    }\n",
       "</style>\n",
       "<table border=\"1\" class=\"dataframe\">\n",
       "  <thead>\n",
       "    <tr style=\"text-align: right;\">\n",
       "      <th></th>\n",
       "      <th>id</th>\n",
       "      <th>date_account_created</th>\n",
       "      <th>timestamp_first_active</th>\n",
       "      <th>date_first_booking</th>\n",
       "      <th>gender</th>\n",
       "      <th>age</th>\n",
       "      <th>signup_method</th>\n",
       "      <th>signup_flow</th>\n",
       "      <th>language</th>\n",
       "      <th>affiliate_channel</th>\n",
       "      <th>affiliate_provider</th>\n",
       "      <th>first_affiliate_tracked</th>\n",
       "      <th>signup_app</th>\n",
       "      <th>first_device_type</th>\n",
       "      <th>first_browser</th>\n",
       "      <th>country_destination</th>\n",
       "    </tr>\n",
       "  </thead>\n",
       "  <tbody>\n",
       "    <tr>\n",
       "      <th>132561</th>\n",
       "      <td>1ghm9ds1aw</td>\n",
       "      <td>2013-12-15</td>\n",
       "      <td>20131215020204</td>\n",
       "      <td>2013-12-26</td>\n",
       "      <td>-unknown-</td>\n",
       "      <td>105.0</td>\n",
       "      <td>basic</td>\n",
       "      <td>25</td>\n",
       "      <td>en</td>\n",
       "      <td>direct</td>\n",
       "      <td>direct</td>\n",
       "      <td>omg</td>\n",
       "      <td>iOS</td>\n",
       "      <td>Windows Desktop</td>\n",
       "      <td>Chrome</td>\n",
       "      <td>US</td>\n",
       "    </tr>\n",
       "    <tr>\n",
       "      <th>130152</th>\n",
       "      <td>4ktaan264t</td>\n",
       "      <td>2013-12-05</td>\n",
       "      <td>20131205224141</td>\n",
       "      <td>2014-09-07</td>\n",
       "      <td>FEMALE</td>\n",
       "      <td>25.0</td>\n",
       "      <td>basic</td>\n",
       "      <td>0</td>\n",
       "      <td>en</td>\n",
       "      <td>direct</td>\n",
       "      <td>direct</td>\n",
       "      <td>untracked</td>\n",
       "      <td>Web</td>\n",
       "      <td>Mac Desktop</td>\n",
       "      <td>Safari</td>\n",
       "      <td>US</td>\n",
       "    </tr>\n",
       "    <tr>\n",
       "      <th>157521</th>\n",
       "      <td>umnqfbvgui</td>\n",
       "      <td>2014-02-27</td>\n",
       "      <td>20140227070919</td>\n",
       "      <td>NaN</td>\n",
       "      <td>FEMALE</td>\n",
       "      <td>22.0</td>\n",
       "      <td>facebook</td>\n",
       "      <td>0</td>\n",
       "      <td>en</td>\n",
       "      <td>seo</td>\n",
       "      <td>google</td>\n",
       "      <td>linked</td>\n",
       "      <td>Web</td>\n",
       "      <td>Mac Desktop</td>\n",
       "      <td>Chrome</td>\n",
       "      <td>NDF</td>\n",
       "    </tr>\n",
       "    <tr>\n",
       "      <th>75812</th>\n",
       "      <td>3p9e6hwwfo</td>\n",
       "      <td>2013-05-08</td>\n",
       "      <td>20130508224223</td>\n",
       "      <td>NaN</td>\n",
       "      <td>MALE</td>\n",
       "      <td>23.0</td>\n",
       "      <td>facebook</td>\n",
       "      <td>0</td>\n",
       "      <td>en</td>\n",
       "      <td>direct</td>\n",
       "      <td>direct</td>\n",
       "      <td>linked</td>\n",
       "      <td>Web</td>\n",
       "      <td>Mac Desktop</td>\n",
       "      <td>Firefox</td>\n",
       "      <td>NDF</td>\n",
       "    </tr>\n",
       "    <tr>\n",
       "      <th>212438</th>\n",
       "      <td>7pgblxvgrm</td>\n",
       "      <td>2014-06-29</td>\n",
       "      <td>20140629024824</td>\n",
       "      <td>NaN</td>\n",
       "      <td>-unknown-</td>\n",
       "      <td>NaN</td>\n",
       "      <td>basic</td>\n",
       "      <td>0</td>\n",
       "      <td>en</td>\n",
       "      <td>seo</td>\n",
       "      <td>google</td>\n",
       "      <td>linked</td>\n",
       "      <td>Web</td>\n",
       "      <td>Windows Desktop</td>\n",
       "      <td>Chrome</td>\n",
       "      <td>NDF</td>\n",
       "    </tr>\n",
       "  </tbody>\n",
       "</table>\n",
       "</div>"
      ],
      "text/plain": [
       "                id date_account_created  timestamp_first_active  \\\n",
       "132561  1ghm9ds1aw           2013-12-15          20131215020204   \n",
       "130152  4ktaan264t           2013-12-05          20131205224141   \n",
       "157521  umnqfbvgui           2014-02-27          20140227070919   \n",
       "75812   3p9e6hwwfo           2013-05-08          20130508224223   \n",
       "212438  7pgblxvgrm           2014-06-29          20140629024824   \n",
       "\n",
       "       date_first_booking     gender    age signup_method  signup_flow  \\\n",
       "132561         2013-12-26  -unknown-  105.0         basic           25   \n",
       "130152         2014-09-07     FEMALE   25.0         basic            0   \n",
       "157521                NaN     FEMALE   22.0      facebook            0   \n",
       "75812                 NaN       MALE   23.0      facebook            0   \n",
       "212438                NaN  -unknown-    NaN         basic            0   \n",
       "\n",
       "       language affiliate_channel affiliate_provider first_affiliate_tracked  \\\n",
       "132561       en            direct             direct                     omg   \n",
       "130152       en            direct             direct               untracked   \n",
       "157521       en               seo             google                  linked   \n",
       "75812        en            direct             direct                  linked   \n",
       "212438       en               seo             google                  linked   \n",
       "\n",
       "       signup_app first_device_type first_browser country_destination  \n",
       "132561        iOS   Windows Desktop        Chrome                  US  \n",
       "130152        Web       Mac Desktop        Safari                  US  \n",
       "157521        Web       Mac Desktop        Chrome                 NDF  \n",
       "75812         Web       Mac Desktop       Firefox                 NDF  \n",
       "212438        Web   Windows Desktop        Chrome                 NDF  "
      ]
     },
     "execution_count": 25,
     "metadata": {},
     "output_type": "execute_result"
    }
   ],
   "source": [
    "df1_users.sample(5)"
   ]
  },
  {
   "cell_type": "code",
   "execution_count": 26,
   "id": "1bc5afab",
   "metadata": {
    "ExecuteTime": {
     "end_time": "2023-01-17T13:58:58.901632Z",
     "start_time": "2023-01-17T13:58:58.390358Z"
    },
    "scrolled": false
   },
   "outputs": [
    {
     "data": {
      "text/html": [
       "<div>\n",
       "<style scoped>\n",
       "    .dataframe tbody tr th:only-of-type {\n",
       "        vertical-align: middle;\n",
       "    }\n",
       "\n",
       "    .dataframe tbody tr th {\n",
       "        vertical-align: top;\n",
       "    }\n",
       "\n",
       "    .dataframe thead th {\n",
       "        text-align: right;\n",
       "    }\n",
       "</style>\n",
       "<table border=\"1\" class=\"dataframe\">\n",
       "  <thead>\n",
       "    <tr style=\"text-align: right;\">\n",
       "      <th></th>\n",
       "      <th>user_id</th>\n",
       "      <th>action</th>\n",
       "      <th>action_type</th>\n",
       "      <th>action_detail</th>\n",
       "      <th>device_type</th>\n",
       "      <th>secs_elapsed</th>\n",
       "    </tr>\n",
       "  </thead>\n",
       "  <tbody>\n",
       "    <tr>\n",
       "      <th>311271</th>\n",
       "      <td>nq0c3g76js</td>\n",
       "      <td>show</td>\n",
       "      <td>NaN</td>\n",
       "      <td>NaN</td>\n",
       "      <td>Windows Desktop</td>\n",
       "      <td>41.0</td>\n",
       "    </tr>\n",
       "    <tr>\n",
       "      <th>852040</th>\n",
       "      <td>zfwe9ax4e1</td>\n",
       "      <td>personalize</td>\n",
       "      <td>data</td>\n",
       "      <td>wishlist_content_update</td>\n",
       "      <td>Mac Desktop</td>\n",
       "      <td>3492.0</td>\n",
       "    </tr>\n",
       "    <tr>\n",
       "      <th>3398878</th>\n",
       "      <td>wcth2svwgs</td>\n",
       "      <td>similar_listings</td>\n",
       "      <td>data</td>\n",
       "      <td>similar_listings</td>\n",
       "      <td>Windows Desktop</td>\n",
       "      <td>878.0</td>\n",
       "    </tr>\n",
       "    <tr>\n",
       "      <th>6490370</th>\n",
       "      <td>y4fz9ytpz8</td>\n",
       "      <td>show</td>\n",
       "      <td>view</td>\n",
       "      <td>p3</td>\n",
       "      <td>Tablet</td>\n",
       "      <td>47.0</td>\n",
       "    </tr>\n",
       "    <tr>\n",
       "      <th>5734051</th>\n",
       "      <td>pdjjcdzgwa</td>\n",
       "      <td>show</td>\n",
       "      <td>view</td>\n",
       "      <td>p3</td>\n",
       "      <td>Windows Desktop</td>\n",
       "      <td>674.0</td>\n",
       "    </tr>\n",
       "  </tbody>\n",
       "</table>\n",
       "</div>"
      ],
      "text/plain": [
       "            user_id            action action_type            action_detail  \\\n",
       "311271   nq0c3g76js              show         NaN                      NaN   \n",
       "852040   zfwe9ax4e1       personalize        data  wishlist_content_update   \n",
       "3398878  wcth2svwgs  similar_listings        data         similar_listings   \n",
       "6490370  y4fz9ytpz8              show        view                       p3   \n",
       "5734051  pdjjcdzgwa              show        view                       p3   \n",
       "\n",
       "             device_type  secs_elapsed  \n",
       "311271   Windows Desktop          41.0  \n",
       "852040       Mac Desktop        3492.0  \n",
       "3398878  Windows Desktop         878.0  \n",
       "6490370           Tablet          47.0  \n",
       "5734051  Windows Desktop         674.0  "
      ]
     },
     "execution_count": 26,
     "metadata": {},
     "output_type": "execute_result"
    }
   ],
   "source": [
    "df1_sessions.sample(5)"
   ]
  },
  {
   "cell_type": "markdown",
   "id": "2201c9ac",
   "metadata": {},
   "source": [
    "### 1.1. Tipo de Dados"
   ]
  },
  {
   "cell_type": "code",
   "execution_count": 49,
   "id": "8ab41de9",
   "metadata": {
    "ExecuteTime": {
     "end_time": "2023-01-17T20:14:05.979423Z",
     "start_time": "2023-01-17T20:14:05.973987Z"
    },
    "scrolled": false
   },
   "outputs": [
    {
     "data": {
      "text/plain": [
       "id                          object\n",
       "date_account_created        object\n",
       "timestamp_first_active       int64\n",
       "date_first_booking          object\n",
       "gender                      object\n",
       "age                        float64\n",
       "signup_method               object\n",
       "signup_flow                  int64\n",
       "language                    object\n",
       "affiliate_channel           object\n",
       "affiliate_provider          object\n",
       "first_affiliate_tracked     object\n",
       "signup_app                  object\n",
       "first_device_type           object\n",
       "first_browser               object\n",
       "country_destination         object\n",
       "dtype: object"
      ]
     },
     "execution_count": 49,
     "metadata": {},
     "output_type": "execute_result"
    }
   ],
   "source": [
    "df1_users.dtypes"
   ]
  },
  {
   "cell_type": "code",
   "execution_count": 50,
   "id": "bd45ae26",
   "metadata": {
    "ExecuteTime": {
     "end_time": "2023-01-17T20:14:07.894849Z",
     "start_time": "2023-01-17T20:14:07.889837Z"
    }
   },
   "outputs": [
    {
     "data": {
      "text/plain": [
       "user_id           object\n",
       "action            object\n",
       "action_type       object\n",
       "action_detail     object\n",
       "device_type       object\n",
       "secs_elapsed     float64\n",
       "dtype: object"
      ]
     },
     "execution_count": 50,
     "metadata": {},
     "output_type": "execute_result"
    }
   ],
   "source": [
    "df1_sessions.dtypes"
   ]
  },
  {
   "cell_type": "markdown",
   "id": "0a9ca923",
   "metadata": {},
   "source": [
    "### 1.2. Verificando NA"
   ]
  },
  {
   "cell_type": "code",
   "execution_count": 55,
   "id": "308e7256",
   "metadata": {
    "ExecuteTime": {
     "end_time": "2023-01-17T20:27:00.483214Z",
     "start_time": "2023-01-17T20:27:00.275325Z"
    }
   },
   "outputs": [
    {
     "data": {
      "text/plain": [
       "id                              0\n",
       "date_account_created            0\n",
       "timestamp_first_active          0\n",
       "date_first_booking         124543\n",
       "gender                          0\n",
       "age                         87990\n",
       "signup_method                   0\n",
       "signup_flow                     0\n",
       "language                        0\n",
       "affiliate_channel               0\n",
       "affiliate_provider              0\n",
       "first_affiliate_tracked      6065\n",
       "signup_app                      0\n",
       "first_device_type               0\n",
       "first_browser                   0\n",
       "country_destination             0\n",
       "dtype: int64"
      ]
     },
     "execution_count": 55,
     "metadata": {},
     "output_type": "execute_result"
    }
   ],
   "source": [
    "df1_users.isna().sum()"
   ]
  },
  {
   "cell_type": "code",
   "execution_count": 56,
   "id": "b1689c6a",
   "metadata": {
    "ExecuteTime": {
     "end_time": "2023-01-17T20:27:07.950738Z",
     "start_time": "2023-01-17T20:27:03.438925Z"
    }
   },
   "outputs": [
    {
     "data": {
      "text/plain": [
       "user_id            34496\n",
       "action             79626\n",
       "action_type      1126204\n",
       "action_detail    1126204\n",
       "device_type            0\n",
       "secs_elapsed      136031\n",
       "dtype: int64"
      ]
     },
     "execution_count": 56,
     "metadata": {},
     "output_type": "execute_result"
    }
   ],
   "source": [
    "df1_sessions.isna().sum()"
   ]
  },
  {
   "cell_type": "code",
   "execution_count": 72,
   "id": "613971f3",
   "metadata": {
    "ExecuteTime": {
     "end_time": "2023-01-17T23:26:16.382146Z",
     "start_time": "2023-01-17T23:26:16.127148Z"
    }
   },
   "outputs": [
    {
     "data": {
      "text/plain": [
       "(68171, 16)"
      ]
     },
     "execution_count": 72,
     "metadata": {},
     "output_type": "execute_result"
    }
   ],
   "source": [
    "# removendo valores nulos completamente\n",
    "df1_users = df1_users.dropna()\n",
    "df1_users.shape"
   ]
  },
  {
   "cell_type": "markdown",
   "id": "844134ab",
   "metadata": {},
   "source": [
    "### 1.3. Alterando Tipo de Dados"
   ]
  },
  {
   "cell_type": "code",
   "execution_count": 73,
   "id": "6e9b7ab5",
   "metadata": {
    "ExecuteTime": {
     "end_time": "2023-01-17T23:26:18.480301Z",
     "start_time": "2023-01-17T23:26:18.275812Z"
    }
   },
   "outputs": [],
   "source": [
    "# date_account_created\n",
    "df1_users['date_account_created'] = pd.to_datetime(df1_users['date_account_created'])\n",
    "\n",
    "# timestamp_first_active\n",
    "df1_users['timestamp_first_active'] = pd.to_datetime(df1_users['timestamp_first_active'], format='%Y%m%d%H%M%S')\n",
    "\n",
    "# date_first_booking\n",
    "df1_users['date_first_booking'] = pd.to_datetime(df1_users['date_first_booking'])\n",
    "\n",
    "# gender\n",
    "\n",
    "# age\n",
    "df1_users['age'] = df1_users['age'].astype(int)"
   ]
  },
  {
   "cell_type": "markdown",
   "id": "6d72b9ec",
   "metadata": {},
   "source": [
    "### 1.4. Verificando Balanceamento de Dados"
   ]
  },
  {
   "cell_type": "code",
   "execution_count": 68,
   "id": "e82d19b6",
   "metadata": {
    "ExecuteTime": {
     "end_time": "2023-01-17T23:19:56.098450Z",
     "start_time": "2023-01-17T23:19:56.083957Z"
    },
    "scrolled": true
   },
   "outputs": [
    {
     "data": {
      "text/plain": [
       "NDF      0.583473\n",
       "US       0.292226\n",
       "other    0.047290\n",
       "FR       0.023532\n",
       "IT       0.013282\n",
       "GB       0.010888\n",
       "ES       0.010536\n",
       "CA       0.006690\n",
       "DE       0.004971\n",
       "NL       0.003570\n",
       "AU       0.002525\n",
       "PT       0.001017\n",
       "Name: country_destination, dtype: float64"
      ]
     },
     "execution_count": 68,
     "metadata": {},
     "output_type": "execute_result"
    }
   ],
   "source": [
    "df1_users['country_destination'].value_counts(normalize=True)"
   ]
  },
  {
   "cell_type": "code",
   "execution_count": 51,
   "id": "f863da5b",
   "metadata": {
    "ExecuteTime": {
     "end_time": "2023-01-17T20:14:13.632407Z",
     "start_time": "2023-01-17T20:14:13.629660Z"
    }
   },
   "outputs": [],
   "source": [
    "#df1_sessions[df1_sessions['user_id'].isna()].sample(5)\n",
    "#df1_sessions.info()\n",
    "#df1_sessions[df1_sessions['user_id'].isna()].sample(5)"
   ]
  },
  {
   "cell_type": "markdown",
   "id": "f176ef42",
   "metadata": {},
   "source": [
    "## 2.0. Filtrando os Dados"
   ]
  },
  {
   "cell_type": "code",
   "execution_count": 74,
   "id": "ac7876c0",
   "metadata": {
    "ExecuteTime": {
     "end_time": "2023-01-17T23:27:08.689332Z",
     "start_time": "2023-01-17T23:27:08.680815Z"
    }
   },
   "outputs": [],
   "source": [
    "df2_users = df1_users.copy()"
   ]
  },
  {
   "cell_type": "markdown",
   "id": "af8cb720",
   "metadata": {},
   "source": [
    "### 2.1. Filtrando Linhas"
   ]
  },
  {
   "cell_type": "markdown",
   "id": "1662a99d",
   "metadata": {},
   "source": [
    "### 2.2. Selecionando Colunas"
   ]
  },
  {
   "cell_type": "markdown",
   "id": "31689d44",
   "metadata": {},
   "source": [
    "## 3.0. Preparação dos Dados"
   ]
  },
  {
   "cell_type": "code",
   "execution_count": 103,
   "id": "f575f21c",
   "metadata": {
    "ExecuteTime": {
     "end_time": "2023-01-18T00:10:52.789200Z",
     "start_time": "2023-01-18T00:10:52.782115Z"
    }
   },
   "outputs": [],
   "source": [
    "df3_users = df2_users.copy()"
   ]
  },
  {
   "cell_type": "code",
   "execution_count": 106,
   "id": "f35f3830",
   "metadata": {
    "ExecuteTime": {
     "end_time": "2023-01-18T00:16:33.114432Z",
     "start_time": "2023-01-18T00:16:33.060356Z"
    }
   },
   "outputs": [],
   "source": [
    "# variáveis dummy\n",
    "df3_users_dummy = pd.get_dummies(df3_users.drop(['id','country_destination'], axis=1))\n",
    "\n",
    "# juntar id e country destination\n",
    "df3_users = pd.concat([df3_users[['id','country_destination']], df3_users_dummy], axis=1)"
   ]
  },
  {
   "cell_type": "markdown",
   "id": "985a3cac",
   "metadata": {},
   "source": [
    "## 4.0. Feature Selection"
   ]
  },
  {
   "cell_type": "code",
   "execution_count": 108,
   "id": "581240b7",
   "metadata": {
    "ExecuteTime": {
     "end_time": "2023-01-18T00:18:56.760284Z",
     "start_time": "2023-01-18T00:18:56.748645Z"
    }
   },
   "outputs": [],
   "source": [
    "cols_drop = ['date_account_created','timestamp_first_active','date_first_booking'] #dados originais\n",
    "df4_users = df3_users.drop(cols_drop, axis=1)"
   ]
  },
  {
   "cell_type": "markdown",
   "id": "331bc163",
   "metadata": {},
   "source": [
    "## 5.0. Modelos de Machine Learning - Neural Network (Multi-Layer Perceptron)"
   ]
  },
  {
   "cell_type": "code",
   "execution_count": 109,
   "id": "2576638b",
   "metadata": {
    "ExecuteTime": {
     "end_time": "2023-01-18T00:18:59.240682Z",
     "start_time": "2023-01-18T00:18:59.230106Z"
    }
   },
   "outputs": [],
   "source": [
    "X = df4_users.drop('country_destination', axis=1)\n",
    "y = df4_users['country_destination'].copy()"
   ]
  },
  {
   "cell_type": "code",
   "execution_count": 110,
   "id": "eb1dd2e5",
   "metadata": {
    "ExecuteTime": {
     "end_time": "2023-01-18T00:19:04.530648Z",
     "start_time": "2023-01-18T00:19:04.505523Z"
    }
   },
   "outputs": [],
   "source": [
    "# Separando dataset em treino e teste\n",
    "X_train, X_test, y_train, y_test = ms.train_test_split(X, y, test_size=0.2, random_state=32)"
   ]
  },
  {
   "cell_type": "code",
   "execution_count": 111,
   "id": "52bcb11f",
   "metadata": {
    "ExecuteTime": {
     "end_time": "2023-01-18T00:19:08.971190Z",
     "start_time": "2023-01-18T00:19:08.963193Z"
    }
   },
   "outputs": [],
   "source": [
    "x_train = X_train.drop('id', axis=1)\n",
    "x_test = X_test.drop('id', axis=1)"
   ]
  },
  {
   "cell_type": "code",
   "execution_count": 112,
   "id": "95995305",
   "metadata": {
    "ExecuteTime": {
     "end_time": "2023-01-18T00:19:11.885285Z",
     "start_time": "2023-01-18T00:19:11.872276Z"
    }
   },
   "outputs": [],
   "source": [
    "# transformando valores da classificação para RN\n",
    "ohe = pp.OneHotEncoder()\n",
    "y_train_nn = ohe.fit_transform(y_train.values.reshape(-1, 1)).toarray()"
   ]
  },
  {
   "cell_type": "code",
   "execution_count": 115,
   "id": "bacc0b87",
   "metadata": {
    "ExecuteTime": {
     "end_time": "2023-01-18T00:25:01.429399Z",
     "start_time": "2023-01-18T00:20:38.993596Z"
    }
   },
   "outputs": [
    {
     "name": "stdout",
     "output_type": "stream",
     "text": [
      "Epoch 1/100\n"
     ]
    },
    {
     "name": "stderr",
     "output_type": "stream",
     "text": [
      "2023-01-17 21:20:39.083292: W tensorflow/tsl/framework/cpu_allocator_impl.cc:82] Allocation of 48864256 exceeds 10% of free system memory.\n"
     ]
    },
    {
     "name": "stdout",
     "output_type": "stream",
     "text": [
      "1705/1705 [==============================] - 2s 1ms/step - loss: 1.3130 - accuracy: 0.7068\n",
      "Epoch 2/100\n",
      "1705/1705 [==============================] - 2s 1ms/step - loss: 1.2810 - accuracy: 0.7076\n",
      "Epoch 3/100\n",
      "1705/1705 [==============================] - 2s 1ms/step - loss: 1.2349 - accuracy: 0.7081\n",
      "Epoch 4/100\n",
      "1705/1705 [==============================] - 2s 1ms/step - loss: 1.2148 - accuracy: 0.7084\n",
      "Epoch 5/100\n",
      "1705/1705 [==============================] - 2s 1ms/step - loss: 1.2000 - accuracy: 0.7086\n",
      "Epoch 6/100\n",
      "1705/1705 [==============================] - 2s 1ms/step - loss: 1.1858 - accuracy: 0.7085\n",
      "Epoch 7/100\n",
      "1705/1705 [==============================] - 2s 1ms/step - loss: 1.1644 - accuracy: 0.7086\n",
      "Epoch 8/100\n",
      "1705/1705 [==============================] - 2s 1ms/step - loss: 1.1622 - accuracy: 0.7084\n",
      "Epoch 9/100\n",
      "1705/1705 [==============================] - 2s 1ms/step - loss: 1.1506 - accuracy: 0.7087\n",
      "Epoch 10/100\n",
      "1705/1705 [==============================] - 2s 1ms/step - loss: 1.1437 - accuracy: 0.7090\n",
      "Epoch 11/100\n",
      "1705/1705 [==============================] - 2s 1ms/step - loss: 1.1388 - accuracy: 0.7088\n",
      "Epoch 12/100\n",
      "1705/1705 [==============================] - 2s 1ms/step - loss: 1.1355 - accuracy: 0.7089\n",
      "Epoch 13/100\n",
      "1705/1705 [==============================] - 2s 1ms/step - loss: 1.1320 - accuracy: 0.7091\n",
      "Epoch 14/100\n",
      "1705/1705 [==============================] - 2s 1ms/step - loss: 1.1314 - accuracy: 0.7094\n",
      "Epoch 15/100\n",
      "1705/1705 [==============================] - 2s 1ms/step - loss: 1.1318 - accuracy: 0.7096\n",
      "Epoch 16/100\n",
      "1705/1705 [==============================] - 2s 1ms/step - loss: 1.1283 - accuracy: 0.7097\n",
      "Epoch 17/100\n",
      "1705/1705 [==============================] - 2s 1ms/step - loss: 1.1273 - accuracy: 0.7096\n",
      "Epoch 18/100\n",
      "1705/1705 [==============================] - 2s 1ms/step - loss: 1.1260 - accuracy: 0.7097\n",
      "Epoch 19/100\n",
      "1705/1705 [==============================] - 2s 1ms/step - loss: 1.1252 - accuracy: 0.7097\n",
      "Epoch 20/100\n",
      "1705/1705 [==============================] - 2s 1ms/step - loss: 1.1240 - accuracy: 0.7098\n",
      "Epoch 21/100\n",
      "1705/1705 [==============================] - 2s 1ms/step - loss: 1.1240 - accuracy: 0.7097\n",
      "Epoch 22/100\n",
      "1705/1705 [==============================] - 2s 1ms/step - loss: 1.1256 - accuracy: 0.7098\n",
      "Epoch 23/100\n",
      "1705/1705 [==============================] - 2s 1ms/step - loss: 1.1218 - accuracy: 0.7100\n",
      "Epoch 24/100\n",
      "1705/1705 [==============================] - 2s 1ms/step - loss: 1.1214 - accuracy: 0.7099\n",
      "Epoch 25/100\n",
      "1705/1705 [==============================] - 2s 1ms/step - loss: 1.1212 - accuracy: 0.7099\n",
      "Epoch 26/100\n",
      "1705/1705 [==============================] - 2s 1ms/step - loss: 1.1196 - accuracy: 0.7100\n",
      "Epoch 27/100\n",
      "1705/1705 [==============================] - 2s 1ms/step - loss: 1.1185 - accuracy: 0.7098\n",
      "Epoch 28/100\n",
      "1705/1705 [==============================] - 2s 1ms/step - loss: 1.1181 - accuracy: 0.7100\n",
      "Epoch 29/100\n",
      "1705/1705 [==============================] - 2s 1ms/step - loss: 1.1175 - accuracy: 0.7100\n",
      "Epoch 30/100\n",
      "1705/1705 [==============================] - 2s 1ms/step - loss: 1.1166 - accuracy: 0.7100\n",
      "Epoch 31/100\n",
      "1705/1705 [==============================] - 2s 1ms/step - loss: 1.1162 - accuracy: 0.7100\n",
      "Epoch 32/100\n",
      "1705/1705 [==============================] - 3s 2ms/step - loss: 1.1151 - accuracy: 0.7101\n",
      "Epoch 33/100\n",
      "1705/1705 [==============================] - 2s 1ms/step - loss: 1.1149 - accuracy: 0.7100\n",
      "Epoch 34/100\n",
      "1705/1705 [==============================] - 2s 1ms/step - loss: 1.1141 - accuracy: 0.7102\n",
      "Epoch 35/100\n",
      "1705/1705 [==============================] - 2s 1ms/step - loss: 1.1132 - accuracy: 0.7101\n",
      "Epoch 36/100\n",
      "1705/1705 [==============================] - 2s 1ms/step - loss: 1.1126 - accuracy: 0.7101\n",
      "Epoch 37/100\n",
      "1705/1705 [==============================] - 2s 1ms/step - loss: 1.1124 - accuracy: 0.7103\n",
      "Epoch 38/100\n",
      "1705/1705 [==============================] - 2s 1ms/step - loss: 1.1117 - accuracy: 0.7105\n",
      "Epoch 39/100\n",
      "1705/1705 [==============================] - 2s 1ms/step - loss: 1.1113 - accuracy: 0.7105\n",
      "Epoch 40/100\n",
      "1705/1705 [==============================] - 2s 1ms/step - loss: 1.1105 - accuracy: 0.7103\n",
      "Epoch 41/100\n",
      "1705/1705 [==============================] - 2s 1ms/step - loss: 1.1104 - accuracy: 0.7104\n",
      "Epoch 42/100\n",
      "1705/1705 [==============================] - 2s 1ms/step - loss: 1.1100 - accuracy: 0.7106\n",
      "Epoch 43/100\n",
      "1705/1705 [==============================] - 2s 1ms/step - loss: 1.1090 - accuracy: 0.7107\n",
      "Epoch 44/100\n",
      "1705/1705 [==============================] - 2s 1ms/step - loss: 1.1093 - accuracy: 0.7105\n",
      "Epoch 45/100\n",
      "1705/1705 [==============================] - 2s 1ms/step - loss: 1.1093 - accuracy: 0.7105\n",
      "Epoch 46/100\n",
      "1705/1705 [==============================] - 2s 1ms/step - loss: 1.1080 - accuracy: 0.7106\n",
      "Epoch 47/100\n",
      "1705/1705 [==============================] - 2s 1ms/step - loss: 1.1075 - accuracy: 0.7107\n",
      "Epoch 48/100\n",
      "1705/1705 [==============================] - 2s 1ms/step - loss: 1.1076 - accuracy: 0.7109\n",
      "Epoch 49/100\n",
      "1705/1705 [==============================] - 2s 1ms/step - loss: 1.1067 - accuracy: 0.7109\n",
      "Epoch 50/100\n",
      "1705/1705 [==============================] - 2s 1ms/step - loss: 1.1071 - accuracy: 0.7111\n",
      "Epoch 51/100\n",
      "1705/1705 [==============================] - 2s 1ms/step - loss: 1.1064 - accuracy: 0.7110\n",
      "Epoch 52/100\n",
      "1705/1705 [==============================] - 2s 1ms/step - loss: 1.1062 - accuracy: 0.7110\n",
      "Epoch 53/100\n",
      "1705/1705 [==============================] - 2s 1ms/step - loss: 1.1047 - accuracy: 0.7111\n",
      "Epoch 54/100\n",
      "1705/1705 [==============================] - 2s 1ms/step - loss: 1.1052 - accuracy: 0.7112\n",
      "Epoch 55/100\n",
      "1705/1705 [==============================] - 2s 1ms/step - loss: 1.1043 - accuracy: 0.7111\n",
      "Epoch 56/100\n",
      "1705/1705 [==============================] - 2s 1ms/step - loss: 1.1042 - accuracy: 0.7113\n",
      "Epoch 57/100\n",
      "1705/1705 [==============================] - 2s 1ms/step - loss: 1.1039 - accuracy: 0.7112\n",
      "Epoch 58/100\n",
      "1705/1705 [==============================] - 2s 1ms/step - loss: 1.1039 - accuracy: 0.7114\n",
      "Epoch 59/100\n",
      "1705/1705 [==============================] - 2s 1ms/step - loss: 1.1039 - accuracy: 0.7114\n",
      "Epoch 60/100\n",
      "1705/1705 [==============================] - 2s 1ms/step - loss: 1.1027 - accuracy: 0.7115\n",
      "Epoch 61/100\n",
      "1705/1705 [==============================] - 2s 1ms/step - loss: 1.1029 - accuracy: 0.7116\n",
      "Epoch 62/100\n",
      "1705/1705 [==============================] - 2s 1ms/step - loss: 1.1026 - accuracy: 0.7115\n",
      "Epoch 63/100\n",
      "1705/1705 [==============================] - 2s 1ms/step - loss: 1.1021 - accuracy: 0.7116\n",
      "Epoch 64/100\n",
      "1705/1705 [==============================] - 2s 1ms/step - loss: 1.1012 - accuracy: 0.7114\n",
      "Epoch 65/100\n",
      "1705/1705 [==============================] - 2s 1ms/step - loss: 1.1013 - accuracy: 0.7116\n",
      "Epoch 66/100\n",
      "1705/1705 [==============================] - 2s 1ms/step - loss: 1.1009 - accuracy: 0.7118\n",
      "Epoch 67/100\n",
      "1705/1705 [==============================] - 2s 1ms/step - loss: 1.1017 - accuracy: 0.7116\n",
      "Epoch 68/100\n",
      "1705/1705 [==============================] - 2s 1ms/step - loss: 1.1008 - accuracy: 0.7115\n",
      "Epoch 69/100\n",
      "1705/1705 [==============================] - 2s 1ms/step - loss: 1.1004 - accuracy: 0.7116\n",
      "Epoch 70/100\n",
      "1705/1705 [==============================] - 2s 1ms/step - loss: 1.0994 - accuracy: 0.7117\n",
      "Epoch 71/100\n",
      "1705/1705 [==============================] - 2s 1ms/step - loss: 1.0994 - accuracy: 0.7120\n",
      "Epoch 72/100\n",
      "1705/1705 [==============================] - 3s 2ms/step - loss: 1.0992 - accuracy: 0.7122\n",
      "Epoch 73/100\n",
      "1705/1705 [==============================] - 2s 1ms/step - loss: 1.0993 - accuracy: 0.7120\n",
      "Epoch 74/100\n",
      "1705/1705 [==============================] - 3s 2ms/step - loss: 1.0997 - accuracy: 0.7118\n",
      "Epoch 75/100\n",
      "1705/1705 [==============================] - 2s 1ms/step - loss: 1.0991 - accuracy: 0.7118\n",
      "Epoch 76/100\n",
      "1705/1705 [==============================] - 2s 1ms/step - loss: 1.0987 - accuracy: 0.7122\n",
      "Epoch 77/100\n",
      "1705/1705 [==============================] - 2s 1ms/step - loss: 1.0991 - accuracy: 0.7120\n",
      "Epoch 78/100\n",
      "1705/1705 [==============================] - 2s 1ms/step - loss: 1.0982 - accuracy: 0.7118\n",
      "Epoch 79/100\n",
      "1705/1705 [==============================] - 2s 1ms/step - loss: 1.0981 - accuracy: 0.7122\n"
     ]
    },
    {
     "name": "stdout",
     "output_type": "stream",
     "text": [
      "Epoch 80/100\n",
      "1705/1705 [==============================] - 2s 1ms/step - loss: 1.0975 - accuracy: 0.7120\n",
      "Epoch 81/100\n",
      "1705/1705 [==============================] - 2s 1ms/step - loss: 1.0975 - accuracy: 0.7119\n",
      "Epoch 82/100\n",
      "1705/1705 [==============================] - 2s 1ms/step - loss: 1.0977 - accuracy: 0.7126\n",
      "Epoch 83/100\n",
      "1705/1705 [==============================] - 2s 1ms/step - loss: 1.0975 - accuracy: 0.7123\n",
      "Epoch 84/100\n",
      "1705/1705 [==============================] - 2s 1ms/step - loss: 1.0971 - accuracy: 0.7121\n",
      "Epoch 85/100\n",
      "1705/1705 [==============================] - 2s 1ms/step - loss: 1.0966 - accuracy: 0.7122\n",
      "Epoch 86/100\n",
      "1705/1705 [==============================] - 2s 1ms/step - loss: 1.0966 - accuracy: 0.7122\n",
      "Epoch 87/100\n",
      "1705/1705 [==============================] - 2s 1ms/step - loss: 1.0963 - accuracy: 0.7124\n",
      "Epoch 88/100\n",
      "1705/1705 [==============================] - 3s 2ms/step - loss: 1.0970 - accuracy: 0.7124\n",
      "Epoch 89/100\n",
      "1705/1705 [==============================] - 2s 1ms/step - loss: 1.0960 - accuracy: 0.7125\n",
      "Epoch 90/100\n",
      "1705/1705 [==============================] - 2s 1ms/step - loss: 1.0958 - accuracy: 0.7124\n",
      "Epoch 91/100\n",
      "1705/1705 [==============================] - 2s 1ms/step - loss: 1.0958 - accuracy: 0.7124\n",
      "Epoch 92/100\n",
      "1705/1705 [==============================] - 2s 1ms/step - loss: 1.0954 - accuracy: 0.7122\n",
      "Epoch 93/100\n",
      "1705/1705 [==============================] - 2s 1ms/step - loss: 1.0951 - accuracy: 0.7122\n",
      "Epoch 94/100\n",
      "1705/1705 [==============================] - 2s 1ms/step - loss: 1.0954 - accuracy: 0.7127\n",
      "Epoch 95/100\n",
      "1705/1705 [==============================] - 2s 1ms/step - loss: 1.0951 - accuracy: 0.7125\n",
      "Epoch 96/100\n",
      "1705/1705 [==============================] - 2s 1ms/step - loss: 1.0944 - accuracy: 0.7126\n",
      "Epoch 97/100\n",
      "1705/1705 [==============================] - 2s 1ms/step - loss: 1.0947 - accuracy: 0.7126\n",
      "Epoch 98/100\n",
      "1705/1705 [==============================] - 2s 1ms/step - loss: 1.0949 - accuracy: 0.7124\n",
      "Epoch 99/100\n",
      "1705/1705 [==============================] - 2s 1ms/step - loss: 1.0943 - accuracy: 0.7128\n",
      "Epoch 100/100\n",
      "1705/1705 [==============================] - 2s 1ms/step - loss: 1.0946 - accuracy: 0.7128\n"
     ]
    },
    {
     "data": {
      "text/plain": [
       "<keras.callbacks.History at 0x7fa7647de160>"
      ]
     },
     "execution_count": 115,
     "metadata": {},
     "output_type": "execute_result"
    }
   ],
   "source": [
    "# model definition\n",
    "model = ml.Sequential()\n",
    "model.add(l.Dense(128, input_dim=x_train.shape[1], activation = 'relu'))\n",
    "model.add(l.Dense(11, activation='softmax'))\n",
    "\n",
    "# model compile\n",
    "model.compile(loss='categorical_crossentropy', optimizer='adam', metrics='accuracy')\n",
    "\n",
    "# train model\n",
    "model.fit(x_train, y_train_nn, epochs=100)"
   ]
  },
  {
   "cell_type": "markdown",
   "id": "ac8dde3e",
   "metadata": {},
   "source": [
    "## 5.0. NN Performance"
   ]
  },
  {
   "cell_type": "code",
   "execution_count": 119,
   "id": "005d631e",
   "metadata": {
    "ExecuteTime": {
     "end_time": "2023-01-18T01:03:08.240377Z",
     "start_time": "2023-01-18T01:03:07.729681Z"
    }
   },
   "outputs": [
    {
     "name": "stdout",
     "output_type": "stream",
     "text": [
      "427/427 [==============================] - 0s 760us/step\n"
     ]
    }
   ],
   "source": [
    "# predição\n",
    "pred_nn = model.predict(x_test)\n",
    "\n",
    "# inverter valores dummy para o resultado da predição\n",
    "yhat_nn = ohe.inverse_transform(pred_nn)\n",
    "\n",
    "# preparar predição\n",
    "yhat_nn = yhat_nn.reshape(1, -1)[0]\n",
    "y_test_nn = y_test.to_numpy()"
   ]
  },
  {
   "cell_type": "code",
   "execution_count": 128,
   "id": "5e1afe53",
   "metadata": {
    "ExecuteTime": {
     "end_time": "2023-01-18T01:09:44.311406Z",
     "start_time": "2023-01-18T01:09:43.809829Z"
    }
   },
   "outputs": [
    {
     "name": "stdout",
     "output_type": "stream",
     "text": [
      "Accuracy: 0.7034836817015034\n"
     ]
    },
    {
     "data": {
      "text/plain": [
       "<AxesSubplot: title={'center': 'Confusion Matrix'}, xlabel='Predicted label', ylabel='True label'>"
      ]
     },
     "execution_count": 128,
     "metadata": {},
     "output_type": "execute_result"
    },
    {
     "data": {
      "image/png": "[encoded data removed]",
      "text/plain": [
       "<Figure size 1000x1000 with 2 Axes>"
      ]
     },
     "metadata": {},
     "output_type": "display_data"
    }
   ],
   "source": [
    "# Accuracy\n",
    "acc_nn = m.accuracy_score(y_test_nn, yhat_nn)\n",
    "print(f'Accuracy: {acc_nn}')\n",
    "\n",
    "# Confusion Matrix\n",
    "mt.plot_confusion_matrix(y_test_nn, yhat_nn, normalize=False, figsize=(10,10))"
   ]
  }
 ],
 "metadata": {
  "kernelspec": {
   "display_name": "Python 3 (ipykernel)",
   "language": "python",
   "name": "python3"
  },
  "language_info": {
   "codemirror_mode": {
    "name": "ipython",
    "version": 3
   },
   "file_extension": ".py",
   "mimetype": "text/x-python",
   "name": "python",
   "nbconvert_exporter": "python",
   "pygments_lexer": "ipython3",
   "version": "3.8.0"
  }
 },
 "nbformat": 4,
 "nbformat_minor": 5
}

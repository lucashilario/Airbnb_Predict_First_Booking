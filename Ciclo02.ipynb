{
 "cells": [
  {
   "cell_type": "markdown",
   "id": "53725607",
   "metadata": {
    "heading_collapsed": true
   },
   "source": [
    "## O Problema"
   ]
  },
  {
   "cell_type": "markdown",
   "id": "20d7c34a",
   "metadata": {
    "hidden": true
   },
   "source": [
    "-- Objetivo do Problema:\n",
    "\n",
    "    -- 1.0. Previsão do primeiro destino que um novo usuário irá escolher\n",
    "    \n",
    "    -- Porque?\n",
    "    \n",
    "        -- Qual o tipo de modelo de negócio do Airbnb?\n",
    "        \n",
    "            -- Marketplace - Demanda x Oferta (Conectar pessoas que oferecem acomodação, com pessoas que estão procurando acomodação)\n",
    "            \n",
    "            -- Oferta (pessoas oferecendo acomodação)\n",
    "            \n",
    "                -- Métricas:\n",
    "                \n",
    "                    -- Tamanho do portifólio (país x cidade)\n",
    "                    \n",
    "                    -- Diversidade/Densidade de portifólio (Dentro de um país existem acomodações em todas as cidades ou só em algumas)\n",
    "                    \n",
    "                    -- Preço médio\n",
    "                    \n",
    "                -- Demanda (pessoas procurando acomodação):\n",
    "                \n",
    "                    -- Número de usuários\n",
    "                    \n",
    "                    -- Quanto o usuário gasta na plataforma\n",
    "                    \n",
    "                    -- Custo por cliente\n",
    "                    \n",
    "                     Receita = (Preço médio de comissão * Número de clientes) - Custo por cliente\n",
    "\n",
    "-- Proposta da solução\n",
    "\n",
    "    -- Modelo de previsão do primeiro destino de um novo usuário.\n",
    "    \n",
    "    -- Predições armazenadas em uma tabela no banco de dados.\n",
    "    \n",
    "    -- API\n",
    "    \n",
    "        -- Input: usuário e suas características.\n",
    "        \n",
    "        -- Output: usuário e suas características com a predição do destino."
   ]
  },
  {
   "cell_type": "markdown",
   "id": "1b95f098",
   "metadata": {},
   "source": [
    "# <font color=red> Ciclo-01 </font>"
   ]
  },
  {
   "cell_type": "markdown",
   "id": "2b09e4d6",
   "metadata": {
    "heading_collapsed": true
   },
   "source": [
    "## 0.0. Importação"
   ]
  },
  {
   "cell_type": "code",
   "execution_count": 61,
   "id": "a599a846",
   "metadata": {
    "ExecuteTime": {
     "end_time": "2023-01-23T13:51:20.609475Z",
     "start_time": "2023-01-23T13:51:20.592570Z"
    },
    "hidden": true
   },
   "outputs": [],
   "source": [
    "import pandas as pd\n",
    "from sklearn import preprocessing as pp\n",
    "from sklearn import metrics as m\n",
    "from scikitplot import metrics as mt\n",
    "import random\n",
    "import numpy as np\n",
    "import seaborn as sns\n",
    "from matplotlib import pyplot as plt\n",
    "from scipy import stats as ss\n",
    "\n",
    "# Rede Neural\n",
    "from sklearn import model_selection as ms\n",
    "from keras import models as ml\n",
    "from keras import layers as l"
   ]
  },
  {
   "cell_type": "markdown",
   "id": "be3ec013",
   "metadata": {
    "hidden": true
   },
   "source": [
    "### 0.1. Funções"
   ]
  },
  {
   "cell_type": "code",
   "execution_count": 60,
   "id": "651a4e70",
   "metadata": {
    "ExecuteTime": {
     "end_time": "2023-01-23T13:50:54.358465Z",
     "start_time": "2023-01-23T13:50:54.342510Z"
    },
    "hidden": true
   },
   "outputs": [],
   "source": [
    "def cramer_v(x, y):\n",
    "    cm = pd.crosstab(x, y).values\n",
    "    n = cm.sum()\n",
    "    r, k = cm.shape\n",
    "    \n",
    "    chi2 = ss.chi2_contingency(cm)[0] # resultado do teste chi2 baseado no pearson\n",
    "    chi2corr = max( 0, chi2 - (k-1) *(r-1)/(n-1))\n",
    "    \n",
    "    kcorr = k - (k-1)**2/(n-1)\n",
    "    rcorr = r - (r-1)**2/(n-1)\n",
    "    \n",
    "    return np.sqrt((chi2corr/n) / (min(kcorr-1, rcorr-1)))"
   ]
  },
  {
   "cell_type": "markdown",
   "id": "aeaec143",
   "metadata": {
    "hidden": true
   },
   "source": [
    "### 0.2. Carregando Dados"
   ]
  },
  {
   "cell_type": "code",
   "execution_count": 3,
   "id": "333b6cfd",
   "metadata": {
    "ExecuteTime": {
     "end_time": "2023-01-23T09:35:31.915622Z",
     "start_time": "2023-01-23T09:35:31.437077Z"
    },
    "hidden": true
   },
   "outputs": [
    {
     "data": {
      "text/plain": [
       "(213451, 16)"
      ]
     },
     "execution_count": 3,
     "metadata": {},
     "output_type": "execute_result"
    }
   ],
   "source": [
    "df_raw_users = pd.read_csv('dataset/training_users.csv', low_memory=True) #low_memory: carregar os dados em batchs\n",
    "df_raw_users.shape"
   ]
  },
  {
   "cell_type": "code",
   "execution_count": 4,
   "id": "4edd9424",
   "metadata": {
    "ExecuteTime": {
     "end_time": "2023-01-23T09:35:40.272205Z",
     "start_time": "2023-01-23T09:35:33.036432Z"
    },
    "hidden": true
   },
   "outputs": [
    {
     "data": {
      "text/plain": [
       "(10567737, 6)"
      ]
     },
     "execution_count": 4,
     "metadata": {},
     "output_type": "execute_result"
    }
   ],
   "source": [
    "df_raw_sessions = pd.read_csv('dataset/sessions.csv', low_memory=True)\n",
    "df_raw_sessions.shape"
   ]
  },
  {
   "cell_type": "code",
   "execution_count": 43,
   "id": "fb5aa5cd",
   "metadata": {
    "ExecuteTime": {
     "end_time": "2023-01-19T19:53:46.161122Z",
     "start_time": "2023-01-19T19:53:46.157675Z"
    },
    "hidden": true
   },
   "outputs": [],
   "source": [
    "#df_sessions[['action','user_id']].groupby('action').count()\n",
    "#df_sessions[['user_id','action']].value_counts()"
   ]
  },
  {
   "cell_type": "markdown",
   "id": "eec99e61",
   "metadata": {
    "heading_collapsed": true
   },
   "source": [
    "## 1.0. Descrição dos Dados"
   ]
  },
  {
   "cell_type": "code",
   "execution_count": 5,
   "id": "e3578b2a",
   "metadata": {
    "ExecuteTime": {
     "end_time": "2023-01-23T09:35:42.764539Z",
     "start_time": "2023-01-23T09:35:42.550054Z"
    },
    "hidden": true
   },
   "outputs": [],
   "source": [
    "df1_users = df_raw_users.copy()\n",
    "df1_sessions = df_raw_sessions.copy()"
   ]
  },
  {
   "cell_type": "markdown",
   "id": "4fdbd719",
   "metadata": {
    "hidden": true
   },
   "source": [
    "### 1.1. Dimensão dos Dados"
   ]
  },
  {
   "cell_type": "code",
   "execution_count": 7,
   "id": "8ad3b766",
   "metadata": {
    "ExecuteTime": {
     "end_time": "2023-01-23T09:35:50.534538Z",
     "start_time": "2023-01-23T09:35:50.531112Z"
    },
    "hidden": true,
    "scrolled": true
   },
   "outputs": [
    {
     "name": "stdout",
     "output_type": "stream",
     "text": [
      "Número de linhas df_users: 213451\n",
      "Número de colunas df_users : 16\n"
     ]
    }
   ],
   "source": [
    "print(f'Número de linhas df_users: {df1_users.shape[0]}')\n",
    "print(f'Número de colunas df_users : {df1_users.shape[1]}')"
   ]
  },
  {
   "cell_type": "code",
   "execution_count": 8,
   "id": "fc6d36fe",
   "metadata": {
    "ExecuteTime": {
     "end_time": "2023-01-23T09:35:51.669866Z",
     "start_time": "2023-01-23T09:35:51.666706Z"
    },
    "hidden": true,
    "scrolled": true
   },
   "outputs": [
    {
     "name": "stdout",
     "output_type": "stream",
     "text": [
      "Número de linhas df_sessions: 10567737\n",
      "Número de colunas df_sessions: 6\n"
     ]
    }
   ],
   "source": [
    "print(f'Número de linhas df_sessions: {df1_sessions.shape[0]}')\n",
    "print(f'Número de colunas df_sessions: {df1_sessions.shape[1]}')"
   ]
  },
  {
   "cell_type": "code",
   "execution_count": 47,
   "id": "d700f045",
   "metadata": {
    "ExecuteTime": {
     "end_time": "2023-01-19T19:53:46.658545Z",
     "start_time": "2023-01-19T19:53:46.621852Z"
    },
    "hidden": true,
    "scrolled": true
   },
   "outputs": [
    {
     "data": {
      "text/html": [
       "<div>\n",
       "<style scoped>\n",
       "    .dataframe tbody tr th:only-of-type {\n",
       "        vertical-align: middle;\n",
       "    }\n",
       "\n",
       "    .dataframe tbody tr th {\n",
       "        vertical-align: top;\n",
       "    }\n",
       "\n",
       "    .dataframe thead th {\n",
       "        text-align: right;\n",
       "    }\n",
       "</style>\n",
       "<table border=\"1\" class=\"dataframe\">\n",
       "  <thead>\n",
       "    <tr style=\"text-align: right;\">\n",
       "      <th></th>\n",
       "      <th>id</th>\n",
       "      <th>date_account_created</th>\n",
       "      <th>timestamp_first_active</th>\n",
       "      <th>date_first_booking</th>\n",
       "      <th>gender</th>\n",
       "      <th>age</th>\n",
       "      <th>signup_method</th>\n",
       "      <th>signup_flow</th>\n",
       "      <th>language</th>\n",
       "      <th>affiliate_channel</th>\n",
       "      <th>affiliate_provider</th>\n",
       "      <th>first_affiliate_tracked</th>\n",
       "      <th>signup_app</th>\n",
       "      <th>first_device_type</th>\n",
       "      <th>first_browser</th>\n",
       "      <th>country_destination</th>\n",
       "    </tr>\n",
       "  </thead>\n",
       "  <tbody>\n",
       "    <tr>\n",
       "      <th>186726</th>\n",
       "      <td>x9hdvbiq7p</td>\n",
       "      <td>2014-05-09</td>\n",
       "      <td>20140509153048</td>\n",
       "      <td>NaN</td>\n",
       "      <td>-unknown-</td>\n",
       "      <td>NaN</td>\n",
       "      <td>basic</td>\n",
       "      <td>25</td>\n",
       "      <td>en</td>\n",
       "      <td>direct</td>\n",
       "      <td>direct</td>\n",
       "      <td>untracked</td>\n",
       "      <td>iOS</td>\n",
       "      <td>iPhone</td>\n",
       "      <td>-unknown-</td>\n",
       "      <td>NDF</td>\n",
       "    </tr>\n",
       "    <tr>\n",
       "      <th>103112</th>\n",
       "      <td>5jqiy132ar</td>\n",
       "      <td>2013-08-28</td>\n",
       "      <td>20130828180328</td>\n",
       "      <td>NaN</td>\n",
       "      <td>-unknown-</td>\n",
       "      <td>NaN</td>\n",
       "      <td>basic</td>\n",
       "      <td>0</td>\n",
       "      <td>de</td>\n",
       "      <td>seo</td>\n",
       "      <td>google</td>\n",
       "      <td>linked</td>\n",
       "      <td>Web</td>\n",
       "      <td>Windows Desktop</td>\n",
       "      <td>Firefox</td>\n",
       "      <td>NDF</td>\n",
       "    </tr>\n",
       "    <tr>\n",
       "      <th>74109</th>\n",
       "      <td>mts3v59w5v</td>\n",
       "      <td>2013-04-30</td>\n",
       "      <td>20130430223826</td>\n",
       "      <td>NaN</td>\n",
       "      <td>FEMALE</td>\n",
       "      <td>31.0</td>\n",
       "      <td>basic</td>\n",
       "      <td>0</td>\n",
       "      <td>en</td>\n",
       "      <td>other</td>\n",
       "      <td>other</td>\n",
       "      <td>untracked</td>\n",
       "      <td>Web</td>\n",
       "      <td>Mac Desktop</td>\n",
       "      <td>Safari</td>\n",
       "      <td>NDF</td>\n",
       "    </tr>\n",
       "    <tr>\n",
       "      <th>61063</th>\n",
       "      <td>sgqwdjvh68</td>\n",
       "      <td>2013-02-18</td>\n",
       "      <td>20130218231305</td>\n",
       "      <td>NaN</td>\n",
       "      <td>MALE</td>\n",
       "      <td>28.0</td>\n",
       "      <td>basic</td>\n",
       "      <td>0</td>\n",
       "      <td>en</td>\n",
       "      <td>direct</td>\n",
       "      <td>direct</td>\n",
       "      <td>untracked</td>\n",
       "      <td>Web</td>\n",
       "      <td>Windows Desktop</td>\n",
       "      <td>Chrome</td>\n",
       "      <td>NDF</td>\n",
       "    </tr>\n",
       "    <tr>\n",
       "      <th>27696</th>\n",
       "      <td>0leuip89lx</td>\n",
       "      <td>2012-06-14</td>\n",
       "      <td>20120614061300</td>\n",
       "      <td>NaN</td>\n",
       "      <td>FEMALE</td>\n",
       "      <td>39.0</td>\n",
       "      <td>basic</td>\n",
       "      <td>0</td>\n",
       "      <td>en</td>\n",
       "      <td>other</td>\n",
       "      <td>craigslist</td>\n",
       "      <td>tracked-other</td>\n",
       "      <td>Web</td>\n",
       "      <td>Windows Desktop</td>\n",
       "      <td>IE</td>\n",
       "      <td>NDF</td>\n",
       "    </tr>\n",
       "  </tbody>\n",
       "</table>\n",
       "</div>"
      ],
      "text/plain": [
       "                id date_account_created  timestamp_first_active  \\\n",
       "186726  x9hdvbiq7p           2014-05-09          20140509153048   \n",
       "103112  5jqiy132ar           2013-08-28          20130828180328   \n",
       "74109   mts3v59w5v           2013-04-30          20130430223826   \n",
       "61063   sgqwdjvh68           2013-02-18          20130218231305   \n",
       "27696   0leuip89lx           2012-06-14          20120614061300   \n",
       "\n",
       "       date_first_booking     gender   age signup_method  signup_flow  \\\n",
       "186726                NaN  -unknown-   NaN         basic           25   \n",
       "103112                NaN  -unknown-   NaN         basic            0   \n",
       "74109                 NaN     FEMALE  31.0         basic            0   \n",
       "61063                 NaN       MALE  28.0         basic            0   \n",
       "27696                 NaN     FEMALE  39.0         basic            0   \n",
       "\n",
       "       language affiliate_channel affiliate_provider first_affiliate_tracked  \\\n",
       "186726       en            direct             direct               untracked   \n",
       "103112       de               seo             google                  linked   \n",
       "74109        en             other              other               untracked   \n",
       "61063        en            direct             direct               untracked   \n",
       "27696        en             other         craigslist           tracked-other   \n",
       "\n",
       "       signup_app first_device_type first_browser country_destination  \n",
       "186726        iOS            iPhone     -unknown-                 NDF  \n",
       "103112        Web   Windows Desktop       Firefox                 NDF  \n",
       "74109         Web       Mac Desktop        Safari                 NDF  \n",
       "61063         Web   Windows Desktop        Chrome                 NDF  \n",
       "27696         Web   Windows Desktop            IE                 NDF  "
      ]
     },
     "execution_count": 47,
     "metadata": {},
     "output_type": "execute_result"
    }
   ],
   "source": [
    "df1_users.sample(5)"
   ]
  },
  {
   "cell_type": "code",
   "execution_count": 48,
   "id": "1bc5afab",
   "metadata": {
    "ExecuteTime": {
     "end_time": "2023-01-19T19:53:47.358931Z",
     "start_time": "2023-01-19T19:53:46.661162Z"
    },
    "hidden": true,
    "scrolled": false
   },
   "outputs": [
    {
     "data": {
      "text/html": [
       "<div>\n",
       "<style scoped>\n",
       "    .dataframe tbody tr th:only-of-type {\n",
       "        vertical-align: middle;\n",
       "    }\n",
       "\n",
       "    .dataframe tbody tr th {\n",
       "        vertical-align: top;\n",
       "    }\n",
       "\n",
       "    .dataframe thead th {\n",
       "        text-align: right;\n",
       "    }\n",
       "</style>\n",
       "<table border=\"1\" class=\"dataframe\">\n",
       "  <thead>\n",
       "    <tr style=\"text-align: right;\">\n",
       "      <th></th>\n",
       "      <th>user_id</th>\n",
       "      <th>action</th>\n",
       "      <th>action_type</th>\n",
       "      <th>action_detail</th>\n",
       "      <th>device_type</th>\n",
       "      <th>secs_elapsed</th>\n",
       "    </tr>\n",
       "  </thead>\n",
       "  <tbody>\n",
       "    <tr>\n",
       "      <th>8007536</th>\n",
       "      <td>04uh49i88z</td>\n",
       "      <td>show</td>\n",
       "      <td>view</td>\n",
       "      <td>user_profile</td>\n",
       "      <td>iPhone</td>\n",
       "      <td>7212.0</td>\n",
       "    </tr>\n",
       "    <tr>\n",
       "      <th>8008461</th>\n",
       "      <td>fa1a7ha1y2</td>\n",
       "      <td>similar_listings_v2</td>\n",
       "      <td>NaN</td>\n",
       "      <td>NaN</td>\n",
       "      <td>Windows Desktop</td>\n",
       "      <td>736.0</td>\n",
       "    </tr>\n",
       "    <tr>\n",
       "      <th>1343386</th>\n",
       "      <td>93xdjg0oms</td>\n",
       "      <td>ask_question</td>\n",
       "      <td>submit</td>\n",
       "      <td>contact_host</td>\n",
       "      <td>Windows Desktop</td>\n",
       "      <td>528.0</td>\n",
       "    </tr>\n",
       "    <tr>\n",
       "      <th>2922828</th>\n",
       "      <td>s3vy9o9xwx</td>\n",
       "      <td>index</td>\n",
       "      <td>view</td>\n",
       "      <td>view_search_results</td>\n",
       "      <td>Windows Desktop</td>\n",
       "      <td>1308.0</td>\n",
       "    </tr>\n",
       "    <tr>\n",
       "      <th>1131633</th>\n",
       "      <td>dd8udoqs00</td>\n",
       "      <td>personalize</td>\n",
       "      <td>data</td>\n",
       "      <td>wishlist_content_update</td>\n",
       "      <td>Windows Desktop</td>\n",
       "      <td>29.0</td>\n",
       "    </tr>\n",
       "  </tbody>\n",
       "</table>\n",
       "</div>"
      ],
      "text/plain": [
       "            user_id               action action_type            action_detail  \\\n",
       "8007536  04uh49i88z                 show        view             user_profile   \n",
       "8008461  fa1a7ha1y2  similar_listings_v2         NaN                      NaN   \n",
       "1343386  93xdjg0oms         ask_question      submit             contact_host   \n",
       "2922828  s3vy9o9xwx                index        view      view_search_results   \n",
       "1131633  dd8udoqs00          personalize        data  wishlist_content_update   \n",
       "\n",
       "             device_type  secs_elapsed  \n",
       "8007536           iPhone        7212.0  \n",
       "8008461  Windows Desktop         736.0  \n",
       "1343386  Windows Desktop         528.0  \n",
       "2922828  Windows Desktop        1308.0  \n",
       "1131633  Windows Desktop          29.0  "
      ]
     },
     "execution_count": 48,
     "metadata": {},
     "output_type": "execute_result"
    }
   ],
   "source": [
    "df1_sessions.sample(5)"
   ]
  },
  {
   "cell_type": "markdown",
   "id": "2201c9ac",
   "metadata": {
    "hidden": true
   },
   "source": [
    "### 1.2. Tipo de Dados"
   ]
  },
  {
   "cell_type": "code",
   "execution_count": 9,
   "id": "8ab41de9",
   "metadata": {
    "ExecuteTime": {
     "end_time": "2023-01-23T09:36:02.828503Z",
     "start_time": "2023-01-23T09:36:02.810017Z"
    },
    "hidden": true,
    "scrolled": false
   },
   "outputs": [
    {
     "data": {
      "text/plain": [
       "id                          object\n",
       "date_account_created        object\n",
       "timestamp_first_active       int64\n",
       "date_first_booking          object\n",
       "gender                      object\n",
       "age                        float64\n",
       "signup_method               object\n",
       "signup_flow                  int64\n",
       "language                    object\n",
       "affiliate_channel           object\n",
       "affiliate_provider          object\n",
       "first_affiliate_tracked     object\n",
       "signup_app                  object\n",
       "first_device_type           object\n",
       "first_browser               object\n",
       "country_destination         object\n",
       "dtype: object"
      ]
     },
     "execution_count": 9,
     "metadata": {},
     "output_type": "execute_result"
    }
   ],
   "source": [
    "df1_users.dtypes"
   ]
  },
  {
   "cell_type": "code",
   "execution_count": 10,
   "id": "bd45ae26",
   "metadata": {
    "ExecuteTime": {
     "end_time": "2023-01-23T09:36:07.747585Z",
     "start_time": "2023-01-23T09:36:07.740388Z"
    },
    "hidden": true
   },
   "outputs": [
    {
     "data": {
      "text/plain": [
       "user_id           object\n",
       "action            object\n",
       "action_type       object\n",
       "action_detail     object\n",
       "device_type       object\n",
       "secs_elapsed     float64\n",
       "dtype: object"
      ]
     },
     "execution_count": 10,
     "metadata": {},
     "output_type": "execute_result"
    }
   ],
   "source": [
    "df1_sessions.dtypes"
   ]
  },
  {
   "cell_type": "markdown",
   "id": "0a9ca923",
   "metadata": {
    "hidden": true
   },
   "source": [
    "### 1.3. Verificando NA"
   ]
  },
  {
   "cell_type": "code",
   "execution_count": 11,
   "id": "308e7256",
   "metadata": {
    "ExecuteTime": {
     "end_time": "2023-01-23T09:36:15.916112Z",
     "start_time": "2023-01-23T09:36:15.649769Z"
    },
    "hidden": true
   },
   "outputs": [
    {
     "data": {
      "text/plain": [
       "id                         0.000000\n",
       "date_account_created       0.000000\n",
       "timestamp_first_active     0.000000\n",
       "date_first_booking         0.583473\n",
       "gender                     0.000000\n",
       "age                        0.412226\n",
       "signup_method              0.000000\n",
       "signup_flow                0.000000\n",
       "language                   0.000000\n",
       "affiliate_channel          0.000000\n",
       "affiliate_provider         0.000000\n",
       "first_affiliate_tracked    0.028414\n",
       "signup_app                 0.000000\n",
       "first_device_type          0.000000\n",
       "first_browser              0.000000\n",
       "country_destination        0.000000\n",
       "dtype: float64"
      ]
     },
     "execution_count": 11,
     "metadata": {},
     "output_type": "execute_result"
    }
   ],
   "source": [
    "df1_users.isna().sum() / len(df1_users)"
   ]
  },
  {
   "cell_type": "code",
   "execution_count": 12,
   "id": "b1689c6a",
   "metadata": {
    "ExecuteTime": {
     "end_time": "2023-01-23T09:36:21.901256Z",
     "start_time": "2023-01-23T09:36:17.201268Z"
    },
    "hidden": true
   },
   "outputs": [
    {
     "data": {
      "text/plain": [
       "user_id          0.003264\n",
       "action           0.007535\n",
       "action_type      0.106570\n",
       "action_detail    0.106570\n",
       "device_type      0.000000\n",
       "secs_elapsed     0.012872\n",
       "dtype: float64"
      ]
     },
     "execution_count": 12,
     "metadata": {},
     "output_type": "execute_result"
    }
   ],
   "source": [
    "df1_sessions.isna().sum() / len(df1_sessions)"
   ]
  },
  {
   "cell_type": "code",
   "execution_count": 13,
   "id": "409c8bc1",
   "metadata": {
    "ExecuteTime": {
     "end_time": "2023-01-23T09:36:23.564717Z",
     "start_time": "2023-01-23T09:36:23.528987Z"
    },
    "hidden": true,
    "scrolled": true
   },
   "outputs": [
    {
     "data": {
      "text/plain": [
       "NDF    1.0\n",
       "Name: country_destination, dtype: float64"
      ]
     },
     "execution_count": 13,
     "metadata": {},
     "output_type": "execute_result"
    }
   ],
   "source": [
    "# validando a classificação dos usuários que não tem data da primeira reserva\n",
    "aux = df1_users[df1_users['date_first_booking'].isna()]\n",
    "aux['country_destination'].value_counts(normalize=True)"
   ]
  },
  {
   "cell_type": "code",
   "execution_count": 30,
   "id": "7c355037",
   "metadata": {
    "ExecuteTime": {
     "end_time": "2023-01-23T10:11:40.029018Z",
     "start_time": "2023-01-23T10:11:39.579506Z"
    },
    "hidden": true,
    "scrolled": false
   },
   "outputs": [
    {
     "data": {
      "text/plain": [
       "<seaborn.axisgrid.FacetGrid at 0x7f023e828400>"
      ]
     },
     "execution_count": 30,
     "metadata": {},
     "output_type": "execute_result"
    },
    {
     "data": {
      "image/png": "[encoded data removed]",
      "text/plain": [
       "<Figure size 500x500 with 1 Axes>"
      ]
     },
     "metadata": {},
     "output_type": "display_data"
    }
   ],
   "source": [
    "# validando as idades\n",
    "aux = df1_users[df1_users['age'].isna()]\n",
    "#aux['country_destination'].value_counts(normalize=True)\n",
    "sns.displot(df1_users[df1_users['age'] < 80]['age'])"
   ]
  },
  {
   "cell_type": "code",
   "execution_count": 15,
   "id": "d093ceac",
   "metadata": {
    "ExecuteTime": {
     "end_time": "2023-01-23T09:36:52.348526Z",
     "start_time": "2023-01-23T09:36:52.336793Z"
    },
    "hidden": true,
    "scrolled": true
   },
   "outputs": [
    {
     "data": {
      "text/plain": [
       "0            untracked\n",
       "5                  omg\n",
       "12                 NaN\n",
       "13              linked\n",
       "79       tracked-other\n",
       "257            product\n",
       "6270         marketing\n",
       "11184        local ops\n",
       "Name: first_affiliate_tracked, dtype: object"
      ]
     },
     "execution_count": 15,
     "metadata": {},
     "output_type": "execute_result"
    }
   ],
   "source": [
    "# validando first_affiliate_tracked\n",
    "df1_users['first_affiliate_tracked'].drop_duplicates()"
   ]
  },
  {
   "cell_type": "code",
   "execution_count": 16,
   "id": "613971f3",
   "metadata": {
    "ExecuteTime": {
     "end_time": "2023-01-23T09:36:58.631847Z",
     "start_time": "2023-01-23T09:36:54.408083Z"
    },
    "hidden": true
   },
   "outputs": [],
   "source": [
    "# Removendo valores nulos\n",
    "# =================== Users ===================\n",
    "# date_first_booking\n",
    "date_first_booking_max = pd.to_datetime(df1_users['date_first_booking']).max().strftime('%Y-%m-%d')\n",
    "df1_users['date_first_booking'] = df1_users['date_first_booking'].fillna(date_first_booking_max)\n",
    "\n",
    "# age\n",
    "avg_age = df1_users['age'].mean().astype(int)\n",
    "df1_users['age'] = df1_users['age'].fillna(avg_age)\n",
    "\n",
    "# first_affiliate_tracked\n",
    "df1_users = df1_users[~df1_users['first_affiliate_tracked'].isna()]\n",
    "\n",
    "# =================== Sessions ===================\n",
    "# user_id - 0,3%\n",
    "df1_sessions = df1_sessions[~df1_sessions['user_id'].isna()]\n",
    "\n",
    "# action - 0,7%\n",
    "df1_sessions = df1_sessions[~df1_sessions['action'].isna()]\n",
    "\n",
    "# action_type - 11%\n",
    "df1_sessions = df1_sessions[~df1_sessions['action_type'].isna()]\n",
    "\n",
    "# action_detail - 11%\n",
    "df1_sessions = df1_sessions[~df1_sessions['action_detail'].isna()]\n",
    "\n",
    "# secs_elapsed - 1,2%\n",
    "df1_sessions = df1_sessions[~df1_sessions['secs_elapsed'].isna()]"
   ]
  },
  {
   "cell_type": "markdown",
   "id": "844134ab",
   "metadata": {
    "hidden": true
   },
   "source": [
    "### 1.4. Alterando Tipo de Dados"
   ]
  },
  {
   "cell_type": "code",
   "execution_count": 17,
   "id": "6e9b7ab5",
   "metadata": {
    "ExecuteTime": {
     "end_time": "2023-01-23T09:37:02.964436Z",
     "start_time": "2023-01-23T09:37:02.310802Z"
    },
    "hidden": true
   },
   "outputs": [],
   "source": [
    "# date_account_created\n",
    "df1_users['date_account_created'] = pd.to_datetime(df1_users['date_account_created'])\n",
    "\n",
    "# timestamp_first_active\n",
    "df1_users['timestamp_first_active'] = pd.to_datetime(df1_users['timestamp_first_active'], format='%Y%m%d%H%M%S')\n",
    "\n",
    "# date_first_booking\n",
    "df1_users['date_first_booking'] = pd.to_datetime(df1_users['date_first_booking'])\n",
    "\n",
    "# gender\n",
    "\n",
    "# age\n",
    "df1_users['age'] = df1_users['age'].astype(int)"
   ]
  },
  {
   "cell_type": "markdown",
   "id": "6d72b9ec",
   "metadata": {
    "hidden": true
   },
   "source": [
    "### 1.5. Verificando Balanceamento de Dados"
   ]
  },
  {
   "cell_type": "code",
   "execution_count": 18,
   "id": "e82d19b6",
   "metadata": {
    "ExecuteTime": {
     "end_time": "2023-01-23T09:37:09.864029Z",
     "start_time": "2023-01-23T09:37:09.847327Z"
    },
    "hidden": true,
    "scrolled": true
   },
   "outputs": [
    {
     "data": {
      "text/plain": [
       "NDF      0.579673\n",
       "US       0.294461\n",
       "other    0.048128\n",
       "FR       0.023623\n",
       "IT       0.013458\n",
       "GB       0.011066\n",
       "ES       0.010671\n",
       "CA       0.006707\n",
       "DE       0.005020\n",
       "NL       0.003621\n",
       "AU       0.002541\n",
       "PT       0.001032\n",
       "Name: country_destination, dtype: float64"
      ]
     },
     "execution_count": 18,
     "metadata": {},
     "output_type": "execute_result"
    }
   ],
   "source": [
    "df1_users['country_destination'].value_counts(normalize=True)"
   ]
  },
  {
   "cell_type": "markdown",
   "id": "450832d7",
   "metadata": {
    "hidden": true
   },
   "source": [
    "### 1.6. Análise Descritiva"
   ]
  },
  {
   "cell_type": "code",
   "execution_count": 48,
   "id": "b07061a5",
   "metadata": {
    "ExecuteTime": {
     "end_time": "2023-01-23T10:41:29.079542Z",
     "start_time": "2023-01-23T10:41:28.335041Z"
    },
    "hidden": true
   },
   "outputs": [],
   "source": [
    "# =================== Users ===================\n",
    "num_attributes_users = df1_users.select_dtypes(include=['int64', 'float64'])\n",
    "cat_attributes_users = df1_users.select_dtypes(exclude=['int64', 'float64','datetime64[ns]'])\n",
    "date_attributes_users = df1_users.select_dtypes(exclude=['datetime64[ns]'])\n",
    "\n",
    "# =================== Sessions ===================\n",
    "num_attributes_sessions = df1_sessions.select_dtypes(include=['int64', 'float64'])\n",
    "cat_attributes_sessions = df1_sessions.select_dtypes(exclude=['int64', 'float64','datetime64[ns]'])\n",
    "date_attributes_sessions = df1_sessions.select_dtypes(exclude=['datetime64[ns]'])"
   ]
  },
  {
   "cell_type": "markdown",
   "id": "479e5524",
   "metadata": {
    "hidden": true
   },
   "source": [
    "### 1.6.1. Numérico - Users"
   ]
  },
  {
   "cell_type": "code",
   "execution_count": 47,
   "id": "a1b75f74",
   "metadata": {
    "ExecuteTime": {
     "end_time": "2023-01-23T10:41:04.723083Z",
     "start_time": "2023-01-23T10:41:04.697052Z"
    },
    "hidden": true
   },
   "outputs": [
    {
     "data": {
      "text/html": [
       "<div>\n",
       "<style scoped>\n",
       "    .dataframe tbody tr th:only-of-type {\n",
       "        vertical-align: middle;\n",
       "    }\n",
       "\n",
       "    .dataframe tbody tr th {\n",
       "        vertical-align: top;\n",
       "    }\n",
       "\n",
       "    .dataframe thead th {\n",
       "        text-align: right;\n",
       "    }\n",
       "</style>\n",
       "<table border=\"1\" class=\"dataframe\">\n",
       "  <thead>\n",
       "    <tr style=\"text-align: right;\">\n",
       "      <th></th>\n",
       "      <th>count</th>\n",
       "      <th>mean</th>\n",
       "      <th>std</th>\n",
       "      <th>min</th>\n",
       "      <th>25%</th>\n",
       "      <th>50%</th>\n",
       "      <th>75%</th>\n",
       "      <th>max</th>\n",
       "    </tr>\n",
       "  </thead>\n",
       "  <tbody>\n",
       "    <tr>\n",
       "      <th>age</th>\n",
       "      <td>207386.0</td>\n",
       "      <td>49.183142</td>\n",
       "      <td>118.421975</td>\n",
       "      <td>1.0</td>\n",
       "      <td>32.0</td>\n",
       "      <td>49.0</td>\n",
       "      <td>49.0</td>\n",
       "      <td>2014.0</td>\n",
       "    </tr>\n",
       "    <tr>\n",
       "      <th>signup_flow</th>\n",
       "      <td>207386.0</td>\n",
       "      <td>3.151490</td>\n",
       "      <td>7.543933</td>\n",
       "      <td>0.0</td>\n",
       "      <td>0.0</td>\n",
       "      <td>0.0</td>\n",
       "      <td>0.0</td>\n",
       "      <td>25.0</td>\n",
       "    </tr>\n",
       "  </tbody>\n",
       "</table>\n",
       "</div>"
      ],
      "text/plain": [
       "                count       mean         std  min   25%   50%   75%     max\n",
       "age          207386.0  49.183142  118.421975  1.0  32.0  49.0  49.0  2014.0\n",
       "signup_flow  207386.0   3.151490    7.543933  0.0   0.0   0.0   0.0    25.0"
      ]
     },
     "execution_count": 47,
     "metadata": {},
     "output_type": "execute_result"
    }
   ],
   "source": [
    "num_attributes_users.describe().T"
   ]
  },
  {
   "cell_type": "markdown",
   "id": "2d0dc8f3",
   "metadata": {
    "hidden": true
   },
   "source": [
    "### 1.6.2. Numérico - Sessions"
   ]
  },
  {
   "cell_type": "code",
   "execution_count": 50,
   "id": "65bcfb06",
   "metadata": {
    "ExecuteTime": {
     "end_time": "2023-01-23T10:42:02.386445Z",
     "start_time": "2023-01-23T10:42:01.944201Z"
    },
    "hidden": true
   },
   "outputs": [
    {
     "data": {
      "text/html": [
       "<div>\n",
       "<style scoped>\n",
       "    .dataframe tbody tr th:only-of-type {\n",
       "        vertical-align: middle;\n",
       "    }\n",
       "\n",
       "    .dataframe tbody tr th {\n",
       "        vertical-align: top;\n",
       "    }\n",
       "\n",
       "    .dataframe thead th {\n",
       "        text-align: right;\n",
       "    }\n",
       "</style>\n",
       "<table border=\"1\" class=\"dataframe\">\n",
       "  <thead>\n",
       "    <tr style=\"text-align: right;\">\n",
       "      <th></th>\n",
       "      <th>count</th>\n",
       "      <th>mean</th>\n",
       "      <th>std</th>\n",
       "      <th>min</th>\n",
       "      <th>25%</th>\n",
       "      <th>50%</th>\n",
       "      <th>75%</th>\n",
       "      <th>max</th>\n",
       "    </tr>\n",
       "  </thead>\n",
       "  <tbody>\n",
       "    <tr>\n",
       "      <th>secs_elapsed</th>\n",
       "      <td>9213930.0</td>\n",
       "      <td>19961.8251</td>\n",
       "      <td>88849.39327</td>\n",
       "      <td>0.0</td>\n",
       "      <td>333.0</td>\n",
       "      <td>1369.0</td>\n",
       "      <td>9796.0</td>\n",
       "      <td>1799977.0</td>\n",
       "    </tr>\n",
       "  </tbody>\n",
       "</table>\n",
       "</div>"
      ],
      "text/plain": [
       "                  count        mean          std  min    25%     50%     75%  \\\n",
       "secs_elapsed  9213930.0  19961.8251  88849.39327  0.0  333.0  1369.0  9796.0   \n",
       "\n",
       "                    max  \n",
       "secs_elapsed  1799977.0  "
      ]
     },
     "execution_count": 50,
     "metadata": {},
     "output_type": "execute_result"
    }
   ],
   "source": [
    "num_attributes_sessions.describe().T"
   ]
  },
  {
   "cell_type": "markdown",
   "id": "02b38016",
   "metadata": {
    "hidden": true
   },
   "source": [
    "### 1.6.3. Categórico - Users"
   ]
  },
  {
   "cell_type": "code",
   "execution_count": 57,
   "id": "f2f0a874",
   "metadata": {
    "ExecuteTime": {
     "end_time": "2023-01-23T12:01:36.042270Z",
     "start_time": "2023-01-23T12:01:35.837473Z"
    },
    "hidden": true
   },
   "outputs": [
    {
     "data": {
      "text/html": [
       "<div>\n",
       "<style scoped>\n",
       "    .dataframe tbody tr th:only-of-type {\n",
       "        vertical-align: middle;\n",
       "    }\n",
       "\n",
       "    .dataframe tbody tr th {\n",
       "        vertical-align: top;\n",
       "    }\n",
       "\n",
       "    .dataframe thead th {\n",
       "        text-align: right;\n",
       "    }\n",
       "</style>\n",
       "<table border=\"1\" class=\"dataframe\">\n",
       "  <thead>\n",
       "    <tr style=\"text-align: right;\">\n",
       "      <th></th>\n",
       "      <th>gender</th>\n",
       "      <th>signup_method</th>\n",
       "      <th>language</th>\n",
       "      <th>affiliate_channel</th>\n",
       "      <th>affiliate_provider</th>\n",
       "      <th>first_affiliate_tracked</th>\n",
       "      <th>signup_app</th>\n",
       "      <th>first_device_type</th>\n",
       "      <th>first_browser</th>\n",
       "      <th>country_destination</th>\n",
       "    </tr>\n",
       "  </thead>\n",
       "  <tbody>\n",
       "    <tr>\n",
       "      <th>count</th>\n",
       "      <td>207386</td>\n",
       "      <td>207386</td>\n",
       "      <td>207386</td>\n",
       "      <td>207386</td>\n",
       "      <td>207386</td>\n",
       "      <td>207386</td>\n",
       "      <td>207386</td>\n",
       "      <td>207386</td>\n",
       "      <td>207386</td>\n",
       "      <td>207386</td>\n",
       "    </tr>\n",
       "    <tr>\n",
       "      <th>unique</th>\n",
       "      <td>4</td>\n",
       "      <td>3</td>\n",
       "      <td>25</td>\n",
       "      <td>8</td>\n",
       "      <td>18</td>\n",
       "      <td>7</td>\n",
       "      <td>4</td>\n",
       "      <td>9</td>\n",
       "      <td>52</td>\n",
       "      <td>12</td>\n",
       "    </tr>\n",
       "    <tr>\n",
       "      <th>top</th>\n",
       "      <td>-unknown-</td>\n",
       "      <td>basic</td>\n",
       "      <td>en</td>\n",
       "      <td>direct</td>\n",
       "      <td>direct</td>\n",
       "      <td>untracked</td>\n",
       "      <td>Web</td>\n",
       "      <td>Mac Desktop</td>\n",
       "      <td>Chrome</td>\n",
       "      <td>NDF</td>\n",
       "    </tr>\n",
       "    <tr>\n",
       "      <th>freq</th>\n",
       "      <td>91783</td>\n",
       "      <td>148297</td>\n",
       "      <td>200415</td>\n",
       "      <td>134179</td>\n",
       "      <td>133935</td>\n",
       "      <td>109232</td>\n",
       "      <td>178334</td>\n",
       "      <td>89600</td>\n",
       "      <td>63845</td>\n",
       "      <td>120216</td>\n",
       "    </tr>\n",
       "  </tbody>\n",
       "</table>\n",
       "</div>"
      ],
      "text/plain": [
       "           gender signup_method language affiliate_channel affiliate_provider  \\\n",
       "count      207386        207386   207386            207386             207386   \n",
       "unique          4             3       25                 8                 18   \n",
       "top     -unknown-         basic       en            direct             direct   \n",
       "freq        91783        148297   200415            134179             133935   \n",
       "\n",
       "       first_affiliate_tracked signup_app first_device_type first_browser  \\\n",
       "count                   207386     207386            207386        207386   \n",
       "unique                       7          4                 9            52   \n",
       "top                  untracked        Web       Mac Desktop        Chrome   \n",
       "freq                    109232     178334             89600         63845   \n",
       "\n",
       "       country_destination  \n",
       "count               207386  \n",
       "unique                  12  \n",
       "top                    NDF  \n",
       "freq                120216  "
      ]
     },
     "execution_count": 57,
     "metadata": {},
     "output_type": "execute_result"
    }
   ],
   "source": [
    "cat_attributes_users.drop('id', axis=1).describe()"
   ]
  },
  {
   "cell_type": "markdown",
   "id": "c813ac3e",
   "metadata": {
    "hidden": true
   },
   "source": [
    "### 1.6.4. Categórico - Sessions"
   ]
  },
  {
   "cell_type": "code",
   "execution_count": 58,
   "id": "c39a1123",
   "metadata": {
    "ExecuteTime": {
     "end_time": "2023-01-23T13:27:30.782999Z",
     "start_time": "2023-01-23T13:27:27.623034Z"
    },
    "hidden": true,
    "scrolled": true
   },
   "outputs": [
    {
     "data": {
      "text/html": [
       "<div>\n",
       "<style scoped>\n",
       "    .dataframe tbody tr th:only-of-type {\n",
       "        vertical-align: middle;\n",
       "    }\n",
       "\n",
       "    .dataframe tbody tr th {\n",
       "        vertical-align: top;\n",
       "    }\n",
       "\n",
       "    .dataframe thead th {\n",
       "        text-align: right;\n",
       "    }\n",
       "</style>\n",
       "<table border=\"1\" class=\"dataframe\">\n",
       "  <thead>\n",
       "    <tr style=\"text-align: right;\">\n",
       "      <th></th>\n",
       "      <th>action</th>\n",
       "      <th>action_type</th>\n",
       "      <th>action_detail</th>\n",
       "      <th>device_type</th>\n",
       "    </tr>\n",
       "  </thead>\n",
       "  <tbody>\n",
       "    <tr>\n",
       "      <th>count</th>\n",
       "      <td>9213930</td>\n",
       "      <td>9213930</td>\n",
       "      <td>9213930</td>\n",
       "      <td>9213930</td>\n",
       "    </tr>\n",
       "    <tr>\n",
       "      <th>unique</th>\n",
       "      <td>347</td>\n",
       "      <td>10</td>\n",
       "      <td>155</td>\n",
       "      <td>14</td>\n",
       "    </tr>\n",
       "    <tr>\n",
       "      <th>top</th>\n",
       "      <td>show</td>\n",
       "      <td>view</td>\n",
       "      <td>view_search_results</td>\n",
       "      <td>Mac Desktop</td>\n",
       "    </tr>\n",
       "    <tr>\n",
       "      <th>freq</th>\n",
       "      <td>2178382</td>\n",
       "      <td>3545621</td>\n",
       "      <td>1770931</td>\n",
       "      <td>3019523</td>\n",
       "    </tr>\n",
       "  </tbody>\n",
       "</table>\n",
       "</div>"
      ],
      "text/plain": [
       "         action action_type        action_detail  device_type\n",
       "count   9213930     9213930              9213930      9213930\n",
       "unique      347          10                  155           14\n",
       "top        show        view  view_search_results  Mac Desktop\n",
       "freq    2178382     3545621              1770931      3019523"
      ]
     },
     "execution_count": 58,
     "metadata": {},
     "output_type": "execute_result"
    }
   ],
   "source": [
    "cat_attributes_sessions.drop('user_id', axis=1).describe()"
   ]
  },
  {
   "cell_type": "code",
   "execution_count": 65,
   "id": "ad21966b",
   "metadata": {
    "ExecuteTime": {
     "end_time": "2023-01-23T14:33:49.965301Z",
     "start_time": "2023-01-23T14:33:28.876979Z"
    },
    "hidden": true,
    "scrolled": true
   },
   "outputs": [],
   "source": [
    "# Recuperando os atributos da sessões\n",
    "cat_attributes_sessions_list = cat_attributes_sessions.drop('user_id', axis = 1).columns.tolist()\n",
    "\n",
    "corr_dict = {}\n",
    "for i in range(len(cat_attributes_sessions_list)):\n",
    "    corr_list = []\n",
    "    for j in range(len(cat_attributes_sessions_list)):\n",
    "        ref = cat_attributes_sessions_list[i]\n",
    "        feat = cat_attributes_sessions_list[j]\n",
    "        \n",
    "        # correlação\n",
    "        corr = cramer_v(cat_attributes_sessions[ref], cat_attributes_sessions[feat])\n",
    "        \n",
    "        # adicionar a lista\n",
    "        corr_list.append(corr)\n",
    "    \n",
    "    # adiciona a lista de correlação para cada atributo de referência\n",
    "    corr_dict[ref] = corr_list"
   ]
  },
  {
   "cell_type": "code",
   "execution_count": 66,
   "id": "0fa4ad08",
   "metadata": {
    "ExecuteTime": {
     "end_time": "2023-01-23T14:34:59.098332Z",
     "start_time": "2023-01-23T14:34:58.867904Z"
    },
    "hidden": true
   },
   "outputs": [
    {
     "data": {
      "text/plain": [
       "<AxesSubplot: >"
      ]
     },
     "execution_count": 66,
     "metadata": {},
     "output_type": "execute_result"
    },
    {
     "data": {
      "image/png": "[encoded data removed]",
      "text/plain": [
       "<Figure size 640x480 with 2 Axes>"
      ]
     },
     "metadata": {},
     "output_type": "display_data"
    }
   ],
   "source": [
    "d = pd.DataFrame(corr_dict)\n",
    "d = d.set_index(d.columns)\n",
    "sns.heatmap(d, annot=True)"
   ]
  },
  {
   "cell_type": "code",
   "execution_count": 56,
   "id": "f863da5b",
   "metadata": {
    "ExecuteTime": {
     "end_time": "2023-01-19T19:53:53.263740Z",
     "start_time": "2023-01-19T19:53:53.257679Z"
    },
    "hidden": true
   },
   "outputs": [],
   "source": [
    "#df1_sessions[df1_sessions['user_id'].isna()].sample(5)\n",
    "#df1_sessions.info()\n",
    "#df1_sessions[df1_sessions['user_id'].isna()].sample(5)\n",
    "#df1_users[df1_users['age'] > 100]['country_destination'].value_counts().sum() / len(df1_users)"
   ]
  },
  {
   "cell_type": "markdown",
   "id": "2e834d4d",
   "metadata": {},
   "source": [
    "## 2.0. Feature Emgineering"
   ]
  },
  {
   "cell_type": "code",
   "execution_count": 81,
   "id": "d619cb4d",
   "metadata": {
    "ExecuteTime": {
     "end_time": "2023-01-23T17:17:31.524819Z",
     "start_time": "2023-01-23T17:17:31.505940Z"
    }
   },
   "outputs": [],
   "source": [
    "df2_users = df1_users.copy()"
   ]
  },
  {
   "cell_type": "markdown",
   "id": "fcdd299c",
   "metadata": {},
   "source": [
    "### 2.1. Criar Novas Features"
   ]
  },
  {
   "cell_type": "code",
   "execution_count": 86,
   "id": "37ec5f42",
   "metadata": {
    "ExecuteTime": {
     "end_time": "2023-01-23T17:25:50.278638Z",
     "start_time": "2023-01-23T17:25:48.467244Z"
    }
   },
   "outputs": [
    {
     "name": "stderr",
     "output_type": "stream",
     "text": [
      "/tmp/ipykernel_3361/2454343485.py:25: FutureWarning: Series.dt.weekofyear and Series.dt.week have been deprecated. Please use Series.dt.isocalendar().week instead.\n",
      "  df2_users['week_of_year_first_active'] = df2_users['first_active'].dt.weekofyear\n",
      "/tmp/ipykernel_3361/2454343485.py:41: FutureWarning: Series.dt.weekofyear and Series.dt.week have been deprecated. Please use Series.dt.isocalendar().week instead.\n",
      "  df2_users['week_of_year_first_booking'] = df2_users['date_first_booking'].dt.weekofyear\n",
      "/tmp/ipykernel_3361/2454343485.py:57: FutureWarning: Series.dt.weekofyear and Series.dt.week have been deprecated. Please use Series.dt.isocalendar().week instead.\n",
      "  df2_users['week_of_year_account_created'] = df2_users['date_account_created'].dt.weekofyear\n"
     ]
    }
   ],
   "source": [
    "# Dias da primeira ativação até a reserva\n",
    "df2_users['first_active'] = pd.to_datetime(df2_users['timestamp_first_active'].dt.strftime('%Y-%m-%d'))\n",
    "df2_users['days_from_first_active_until_booking'] = (df2_users['date_first_booking'] - df2_users['first_active']).apply(lambda x: x.days)\n",
    "\n",
    "# Dias da primeira ativação até criar a conta\n",
    "df2_users['days_from_first_acive_until_account_created'] = (df2_users['date_account_created'] - df2_users['first_active']).apply(lambda x: x.days)\n",
    "\n",
    "# Dias  criação da conta até a reserva\n",
    "df2_users['days_from_account_created_until_first_booking'] = (df2_users['date_first_booking'] - df2_users['date_account_created']).apply(lambda x: x.days)\n",
    "\n",
    "# ======================== Primeira ativação ========================\n",
    "# ano da primeira ativação\n",
    "df2_users['year_first_active'] = df2_users['first_active'].dt.year\n",
    "\n",
    "# mês da primeira ativação\n",
    "df2_users['month_first_active'] = df2_users['first_active'].dt.month\n",
    "\n",
    "# dia da primeira ativação\n",
    "df2_users['day_first_active'] = df2_users['first_active'].dt.day\n",
    "\n",
    "# di da semana da primeira ativação\n",
    "df2_users['day_of_week_first_active'] = df2_users['first_active'].dt.dayofweek\n",
    "\n",
    "# semana do ano da primeira ativação\n",
    "df2_users['week_of_year_first_active'] = df2_users['first_active'].dt.weekofyear\n",
    "\n",
    "# ======================== Primeira reserva ========================\n",
    "# ano da primeira reserva\n",
    "df2_users['year_first_booking'] = df2_users['date_first_booking'].dt.year\n",
    "\n",
    "# mês da primeira reserva\n",
    "df2_users['month_first_booking'] = df2_users['date_first_booking'].dt.month\n",
    "\n",
    "# dia da primeira reserva\n",
    "df2_users['day_first_booking'] = df2_users['date_first_booking'].dt.day\n",
    "\n",
    "# di da semana da primeira reserva\n",
    "df2_users['day_of_week_first_booking'] = df2_users['date_first_booking'].dt.dayofweek\n",
    "\n",
    "# semana do ano da primeira reserva\n",
    "df2_users['week_of_year_first_booking'] = df2_users['date_first_booking'].dt.weekofyear\n",
    "\n",
    "# ======================== PConta criada ========================\n",
    "# ano da conta criada\n",
    "df2_users['year_account_created'] = df2_users['date_account_created'].dt.year\n",
    "\n",
    "# mês da conta criada\n",
    "df2_users['month_account_created'] = df2_users['date_account_created'].dt.month\n",
    "\n",
    "# dia da conta criada\n",
    "df2_users['day_account_created'] = df2_users['date_account_created'].dt.day\n",
    "\n",
    "# di da semana da conta criada\n",
    "df2_users['day_of_week_account_created'] = df2_users['date_account_created'].dt.dayofweek\n",
    "\n",
    "# semana do ano da conta criada\n",
    "df2_users['week_of_year_account_created'] = df2_users['date_account_created'].dt.weekofyear"
   ]
  },
  {
   "cell_type": "markdown",
   "id": "f176ef42",
   "metadata": {},
   "source": [
    "## 3.0. Filtrando os Dados"
   ]
  },
  {
   "cell_type": "code",
   "execution_count": 88,
   "id": "ac7876c0",
   "metadata": {
    "ExecuteTime": {
     "end_time": "2023-01-23T17:28:00.237717Z",
     "start_time": "2023-01-23T17:28:00.129700Z"
    }
   },
   "outputs": [],
   "source": [
    "df3_users = df2_users.copy()"
   ]
  },
  {
   "cell_type": "markdown",
   "id": "af8cb720",
   "metadata": {},
   "source": [
    "### 3.1. Filtrando Linhas"
   ]
  },
  {
   "cell_type": "code",
   "execution_count": 89,
   "id": "b51d640e",
   "metadata": {
    "ExecuteTime": {
     "end_time": "2023-01-23T17:28:02.641537Z",
     "start_time": "2023-01-23T17:28:02.632795Z"
    },
    "scrolled": false
   },
   "outputs": [
    {
     "data": {
      "text/html": [
       "<div>\n",
       "<style scoped>\n",
       "    .dataframe tbody tr th:only-of-type {\n",
       "        vertical-align: middle;\n",
       "    }\n",
       "\n",
       "    .dataframe tbody tr th {\n",
       "        vertical-align: top;\n",
       "    }\n",
       "\n",
       "    .dataframe thead th {\n",
       "        text-align: right;\n",
       "    }\n",
       "</style>\n",
       "<table border=\"1\" class=\"dataframe\">\n",
       "  <thead>\n",
       "    <tr style=\"text-align: right;\">\n",
       "      <th></th>\n",
       "      <th>age</th>\n",
       "    </tr>\n",
       "    <tr>\n",
       "      <th>country_destination</th>\n",
       "      <th></th>\n",
       "    </tr>\n",
       "  </thead>\n",
       "  <tbody>\n",
       "    <tr>\n",
       "      <th>DE</th>\n",
       "      <td>1</td>\n",
       "    </tr>\n",
       "    <tr>\n",
       "      <th>ES</th>\n",
       "      <td>1</td>\n",
       "    </tr>\n",
       "    <tr>\n",
       "      <th>IT</th>\n",
       "      <td>2</td>\n",
       "    </tr>\n",
       "    <tr>\n",
       "      <th>NDF</th>\n",
       "      <td>28</td>\n",
       "    </tr>\n",
       "    <tr>\n",
       "      <th>US</th>\n",
       "      <td>5</td>\n",
       "    </tr>\n",
       "    <tr>\n",
       "      <th>other</th>\n",
       "      <td>1</td>\n",
       "    </tr>\n",
       "  </tbody>\n",
       "</table>\n",
       "</div>"
      ],
      "text/plain": [
       "                     age\n",
       "country_destination     \n",
       "DE                     1\n",
       "ES                     1\n",
       "IT                     2\n",
       "NDF                   28\n",
       "US                     5\n",
       "other                  1"
      ]
     },
     "execution_count": 89,
     "metadata": {},
     "output_type": "execute_result"
    }
   ],
   "source": [
    "df3_users[df1_users['age'] < 15][['age', 'country_destination']].groupby('country_destination').count()"
   ]
  },
  {
   "cell_type": "code",
   "execution_count": 90,
   "id": "7bd338b4",
   "metadata": {
    "ExecuteTime": {
     "end_time": "2023-01-23T17:28:06.250423Z",
     "start_time": "2023-01-23T17:28:06.240085Z"
    },
    "scrolled": false
   },
   "outputs": [
    {
     "data": {
      "text/html": [
       "<div>\n",
       "<style scoped>\n",
       "    .dataframe tbody tr th:only-of-type {\n",
       "        vertical-align: middle;\n",
       "    }\n",
       "\n",
       "    .dataframe tbody tr th {\n",
       "        vertical-align: top;\n",
       "    }\n",
       "\n",
       "    .dataframe thead th {\n",
       "        text-align: right;\n",
       "    }\n",
       "</style>\n",
       "<table border=\"1\" class=\"dataframe\">\n",
       "  <thead>\n",
       "    <tr style=\"text-align: right;\">\n",
       "      <th></th>\n",
       "      <th>age</th>\n",
       "    </tr>\n",
       "    <tr>\n",
       "      <th>country_destination</th>\n",
       "      <th></th>\n",
       "    </tr>\n",
       "  </thead>\n",
       "  <tbody>\n",
       "    <tr>\n",
       "      <th>AU</th>\n",
       "      <td>1</td>\n",
       "    </tr>\n",
       "    <tr>\n",
       "      <th>CA</th>\n",
       "      <td>6</td>\n",
       "    </tr>\n",
       "    <tr>\n",
       "      <th>DE</th>\n",
       "      <td>7</td>\n",
       "    </tr>\n",
       "    <tr>\n",
       "      <th>ES</th>\n",
       "      <td>9</td>\n",
       "    </tr>\n",
       "    <tr>\n",
       "      <th>FR</th>\n",
       "      <td>18</td>\n",
       "    </tr>\n",
       "    <tr>\n",
       "      <th>GB</th>\n",
       "      <td>10</td>\n",
       "    </tr>\n",
       "    <tr>\n",
       "      <th>IT</th>\n",
       "      <td>13</td>\n",
       "    </tr>\n",
       "    <tr>\n",
       "      <th>NDF</th>\n",
       "      <td>373</td>\n",
       "    </tr>\n",
       "    <tr>\n",
       "      <th>NL</th>\n",
       "      <td>5</td>\n",
       "    </tr>\n",
       "    <tr>\n",
       "      <th>PT</th>\n",
       "      <td>1</td>\n",
       "    </tr>\n",
       "    <tr>\n",
       "      <th>US</th>\n",
       "      <td>259</td>\n",
       "    </tr>\n",
       "    <tr>\n",
       "      <th>other</th>\n",
       "      <td>45</td>\n",
       "    </tr>\n",
       "  </tbody>\n",
       "</table>\n",
       "</div>"
      ],
      "text/plain": [
       "                     age\n",
       "country_destination     \n",
       "AU                     1\n",
       "CA                     6\n",
       "DE                     7\n",
       "ES                     9\n",
       "FR                    18\n",
       "GB                    10\n",
       "IT                    13\n",
       "NDF                  373\n",
       "NL                     5\n",
       "PT                     1\n",
       "US                   259\n",
       "other                 45"
      ]
     },
     "execution_count": 90,
     "metadata": {},
     "output_type": "execute_result"
    }
   ],
   "source": [
    "df3_users[df1_users['age'] > 120][['age', 'country_destination']].groupby('country_destination').count()"
   ]
  },
  {
   "cell_type": "code",
   "execution_count": 91,
   "id": "22f54f00",
   "metadata": {
    "ExecuteTime": {
     "end_time": "2023-01-23T17:28:21.414530Z",
     "start_time": "2023-01-23T17:28:08.752932Z"
    }
   },
   "outputs": [
    {
     "data": {
      "text/html": [
       "<div>\n",
       "<style scoped>\n",
       "    .dataframe tbody tr th:only-of-type {\n",
       "        vertical-align: middle;\n",
       "    }\n",
       "\n",
       "    .dataframe tbody tr th {\n",
       "        vertical-align: top;\n",
       "    }\n",
       "\n",
       "    .dataframe thead th {\n",
       "        text-align: right;\n",
       "    }\n",
       "</style>\n",
       "<table border=\"1\" class=\"dataframe\">\n",
       "  <thead>\n",
       "    <tr style=\"text-align: right;\">\n",
       "      <th></th>\n",
       "      <th>secs_elapsed</th>\n",
       "    </tr>\n",
       "    <tr>\n",
       "      <th>country_destination</th>\n",
       "      <th></th>\n",
       "    </tr>\n",
       "  </thead>\n",
       "  <tbody>\n",
       "    <tr>\n",
       "      <th>AU</th>\n",
       "      <td>0.000027</td>\n",
       "    </tr>\n",
       "    <tr>\n",
       "      <th>CA</th>\n",
       "      <td>0.000070</td>\n",
       "    </tr>\n",
       "    <tr>\n",
       "      <th>DE</th>\n",
       "      <td>0.000025</td>\n",
       "    </tr>\n",
       "    <tr>\n",
       "      <th>ES</th>\n",
       "      <td>0.000113</td>\n",
       "    </tr>\n",
       "    <tr>\n",
       "      <th>FR</th>\n",
       "      <td>0.000188</td>\n",
       "    </tr>\n",
       "    <tr>\n",
       "      <th>GB</th>\n",
       "      <td>0.000109</td>\n",
       "    </tr>\n",
       "    <tr>\n",
       "      <th>IT</th>\n",
       "      <td>0.000156</td>\n",
       "    </tr>\n",
       "    <tr>\n",
       "      <th>NDF</th>\n",
       "      <td>0.004563</td>\n",
       "    </tr>\n",
       "    <tr>\n",
       "      <th>NL</th>\n",
       "      <td>0.000043</td>\n",
       "    </tr>\n",
       "    <tr>\n",
       "      <th>PT</th>\n",
       "      <td>0.000007</td>\n",
       "    </tr>\n",
       "    <tr>\n",
       "      <th>US</th>\n",
       "      <td>0.002731</td>\n",
       "    </tr>\n",
       "    <tr>\n",
       "      <th>other</th>\n",
       "      <td>0.000498</td>\n",
       "    </tr>\n",
       "  </tbody>\n",
       "</table>\n",
       "</div>"
      ],
      "text/plain": [
       "                     secs_elapsed\n",
       "country_destination              \n",
       "AU                       0.000027\n",
       "CA                       0.000070\n",
       "DE                       0.000025\n",
       "ES                       0.000113\n",
       "FR                       0.000188\n",
       "GB                       0.000109\n",
       "IT                       0.000156\n",
       "NDF                      0.004563\n",
       "NL                       0.000043\n",
       "PT                       0.000007\n",
       "US                       0.002731\n",
       "other                    0.000498"
      ]
     },
     "execution_count": 91,
     "metadata": {},
     "output_type": "execute_result"
    }
   ],
   "source": [
    "df_join = pd.merge(df3_users, df1_sessions, left_on='id', right_on='user_id', how='left')\n",
    "df_join[df_join['secs_elapsed'] == 0][['secs_elapsed','country_destination']].groupby('country_destination').count() / len(df1_sessions)"
   ]
  },
  {
   "cell_type": "code",
   "execution_count": 92,
   "id": "84b6b3cf",
   "metadata": {
    "ExecuteTime": {
     "end_time": "2023-01-23T17:28:30.948178Z",
     "start_time": "2023-01-23T17:28:28.992545Z"
    }
   },
   "outputs": [],
   "source": [
    "# age - aparentemente existem inputs incorretos e representam uma quantidade muito baixa na base de dados\n",
    "df3_users = df3_users[(df3_users['age'] > 15) & (df3_users['age'] < 120)]\n",
    "\n",
    "# secs_elapsed - não existe a possibilidade do usuário se manter no site por 0 tempo\n",
    "df3_sessions = df1_sessions[df1_sessions['secs_elapsed'] > 0]"
   ]
  },
  {
   "cell_type": "markdown",
   "id": "1662a99d",
   "metadata": {
    "heading_collapsed": true
   },
   "source": [
    "### 3.2. Selecionando Colunas"
   ]
  },
  {
   "cell_type": "markdown",
   "id": "31689d44",
   "metadata": {},
   "source": [
    "## 4.0. Preparação dos Dados"
   ]
  },
  {
   "cell_type": "code",
   "execution_count": 93,
   "id": "f575f21c",
   "metadata": {
    "ExecuteTime": {
     "end_time": "2023-01-23T17:28:49.088509Z",
     "start_time": "2023-01-23T17:28:48.888261Z"
    }
   },
   "outputs": [],
   "source": [
    "df4_users = df3_users.copy()\n",
    "df4_sessions = df3_sessions.copy()"
   ]
  },
  {
   "cell_type": "code",
   "execution_count": 94,
   "id": "f35f3830",
   "metadata": {
    "ExecuteTime": {
     "end_time": "2023-01-23T17:28:50.909957Z",
     "start_time": "2023-01-23T17:28:50.671267Z"
    }
   },
   "outputs": [],
   "source": [
    "# variáveis dummy\n",
    "df4_users_dummy = pd.get_dummies(df4_users.drop(['id','country_destination'], axis=1))\n",
    "\n",
    "# juntar id e country destination\n",
    "df4_users = pd.concat([df4_users[['id','country_destination']], df4_users_dummy], axis=1)"
   ]
  },
  {
   "cell_type": "markdown",
   "id": "985a3cac",
   "metadata": {},
   "source": [
    "## 5.0. Feature Selection"
   ]
  },
  {
   "cell_type": "code",
   "execution_count": 95,
   "id": "581240b7",
   "metadata": {
    "ExecuteTime": {
     "end_time": "2023-01-23T17:28:54.804310Z",
     "start_time": "2023-01-23T17:28:54.774344Z"
    }
   },
   "outputs": [],
   "source": [
    "cols_drop = ['date_account_created','timestamp_first_active','date_first_booking', 'first_active'] #dados originais\n",
    "df5_users = df4_users.drop(cols_drop, axis=1)"
   ]
  },
  {
   "cell_type": "code",
   "execution_count": 96,
   "id": "2576638b",
   "metadata": {
    "ExecuteTime": {
     "end_time": "2023-01-23T17:28:56.452572Z",
     "start_time": "2023-01-23T17:28:56.408206Z"
    }
   },
   "outputs": [],
   "source": [
    "X = df5_users.drop('country_destination', axis=1)\n",
    "y = df5_users['country_destination'].copy()"
   ]
  },
  {
   "cell_type": "code",
   "execution_count": 97,
   "id": "eb1dd2e5",
   "metadata": {
    "ExecuteTime": {
     "end_time": "2023-01-23T17:28:58.872857Z",
     "start_time": "2023-01-23T17:28:58.734042Z"
    }
   },
   "outputs": [],
   "source": [
    "# Separando dataset em treino e teste\n",
    "X_train, X_test, y_train, y_test = ms.train_test_split(X, y, test_size=0.2, random_state=32)"
   ]
  },
  {
   "cell_type": "markdown",
   "id": "331bc163",
   "metadata": {},
   "source": [
    "## 5.0. Modelos de Machine Learning"
   ]
  },
  {
   "cell_type": "code",
   "execution_count": 100,
   "id": "52bcb11f",
   "metadata": {
    "ExecuteTime": {
     "end_time": "2023-01-23T17:32:03.536932Z",
     "start_time": "2023-01-23T17:32:03.501839Z"
    }
   },
   "outputs": [],
   "source": [
    "x_train = X_train.drop('id', axis=1)\n",
    "x_test = X_test.drop('id', axis=1)\n",
    "\n",
    "#y_test_nn = y_test.to_numpy()"
   ]
  },
  {
   "cell_type": "markdown",
   "id": "8c5c3192",
   "metadata": {
    "heading_collapsed": true
   },
   "source": [
    "### 5.1. Baseline Model"
   ]
  },
  {
   "cell_type": "code",
   "execution_count": 64,
   "id": "86163af3",
   "metadata": {
    "ExecuteTime": {
     "end_time": "2023-01-19T19:53:53.483674Z",
     "start_time": "2023-01-19T19:53:53.461366Z"
    },
    "hidden": true
   },
   "outputs": [
    {
     "data": {
      "text/plain": [
       "13635"
      ]
     },
     "execution_count": 64,
     "metadata": {},
     "output_type": "execute_result"
    }
   ],
   "source": [
    "# Lista das classes\n",
    "country_destination_list = df1_users['country_destination'].drop_duplicates().sort_values().tolist()\n",
    "\n",
    "# Total de registros de test\n",
    "k_num = y_test.shape[0]\n",
    "\n",
    "# Quantidade de registros por classe - será utilizado como peso para gerar aleatoriedade de acordo com a base\n",
    "country_destination_weights = df1_users['country_destination'].value_counts(normalize=True).sort_index().tolist()\n",
    "\n",
    "# Modelo aleatório\n",
    "yhat_random = random.choices(population=country_destination_list, weights=country_destination_weights, k=k_num)\n",
    "len(yhat_random)"
   ]
  },
  {
   "cell_type": "code",
   "execution_count": 65,
   "id": "b2d0e8ee",
   "metadata": {
    "ExecuteTime": {
     "end_time": "2023-01-19T19:53:54.118840Z",
     "start_time": "2023-01-19T19:53:53.485901Z"
    },
    "hidden": true
   },
   "outputs": [
    {
     "name": "stdout",
     "output_type": "stream",
     "text": [
      "Accuracy: 0.514998166483315\n",
      "Balanced Accuracy: 0.08723910110054071\n",
      "Kappa Metrics: -0.0024646855608103646\n"
     ]
    },
    {
     "data": {
      "text/plain": [
       "<AxesSubplot: title={'center': 'Confusion Matrix'}, xlabel='Predicted label', ylabel='True label'>"
      ]
     },
     "execution_count": 65,
     "metadata": {},
     "output_type": "execute_result"
    },
    {
     "data": {
      "image/png": "[encoded data removed]",
      "text/plain": [
       "<Figure size 1000x1000 with 2 Axes>"
      ]
     },
     "metadata": {},
     "output_type": "display_data"
    }
   ],
   "source": [
    "# Accuracy\n",
    "acc_random = m.accuracy_score(y_test, yhat_random)\n",
    "print(f'Accuracy: {acc_random}')\n",
    "\n",
    "# Balanced Accuracy\n",
    "balanced_acc_random = m.balanced_accuracy_score(y_test, yhat_random)\n",
    "print(f'Balanced Accuracy: {balanced_acc_random}')\n",
    "\n",
    "# Kappa Metrics\n",
    "kappa_random = m.cohen_kappa_score(y_test, yhat_random)\n",
    "print(f'Kappa Metrics: {kappa_random}')\n",
    "\n",
    "# Confusion Matrix\n",
    "mt.plot_confusion_matrix(y_test, yhat_random, normalize=False, figsize=(10,10))"
   ]
  },
  {
   "cell_type": "markdown",
   "id": "c5862ec2",
   "metadata": {},
   "source": [
    "### 5.2. Neural Network - MLP"
   ]
  },
  {
   "cell_type": "code",
   "execution_count": 101,
   "id": "95995305",
   "metadata": {
    "ExecuteTime": {
     "end_time": "2023-01-23T17:32:14.015619Z",
     "start_time": "2023-01-23T17:32:13.981924Z"
    }
   },
   "outputs": [],
   "source": [
    "# transformando valores da classificação para RN\n",
    "ohe = pp.OneHotEncoder()\n",
    "y_train_nn = ohe.fit_transform(y_train.values.reshape(-1, 1)).toarray()"
   ]
  },
  {
   "cell_type": "code",
   "execution_count": 102,
   "id": "bacc0b87",
   "metadata": {
    "ExecuteTime": {
     "end_time": "2023-01-23T17:44:39.219078Z",
     "start_time": "2023-01-23T17:32:15.286309Z"
    }
   },
   "outputs": [
    {
     "name": "stdout",
     "output_type": "stream",
     "text": [
      "Epoch 1/100\n"
     ]
    },
    {
     "name": "stderr",
     "output_type": "stream",
     "text": [
      "2023-01-23 14:32:15.887688: W tensorflow/tsl/framework/cpu_allocator_impl.cc:82] Allocation of 198328800 exceeds 10% of free system memory.\n"
     ]
    },
    {
     "name": "stdout",
     "output_type": "stream",
     "text": [
      "5165/5165 [==============================] - 8s 1ms/step - loss: 4.8162 - accuracy: 0.7924\n",
      "Epoch 2/100\n",
      "5165/5165 [==============================] - 7s 1ms/step - loss: 1.3029 - accuracy: 0.8176\n",
      "Epoch 3/100\n",
      "5165/5165 [==============================] - 7s 1ms/step - loss: 0.6399 - accuracy: 0.8538\n",
      "Epoch 4/100\n",
      "5165/5165 [==============================] - 7s 1ms/step - loss: 0.5075 - accuracy: 0.8730\n",
      "Epoch 5/100\n",
      "5165/5165 [==============================] - 7s 1ms/step - loss: 0.4994 - accuracy: 0.8732\n",
      "Epoch 6/100\n",
      "5165/5165 [==============================] - 7s 1ms/step - loss: 0.4980 - accuracy: 0.8733\n",
      "Epoch 7/100\n",
      "5165/5165 [==============================] - 7s 1ms/step - loss: 0.4976 - accuracy: 0.8732\n",
      "Epoch 8/100\n",
      "5165/5165 [==============================] - 7s 1ms/step - loss: 0.4964 - accuracy: 0.8735\n",
      "Epoch 9/100\n",
      "5165/5165 [==============================] - 7s 1ms/step - loss: 0.4955 - accuracy: 0.8734\n",
      "Epoch 10/100\n",
      "5165/5165 [==============================] - 7s 1ms/step - loss: 0.4952 - accuracy: 0.8735\n",
      "Epoch 11/100\n",
      "5165/5165 [==============================] - 7s 1ms/step - loss: 0.4955 - accuracy: 0.8735\n",
      "Epoch 12/100\n",
      "5165/5165 [==============================] - 7s 1ms/step - loss: 0.4947 - accuracy: 0.8735\n",
      "Epoch 13/100\n",
      "5165/5165 [==============================] - 7s 1ms/step - loss: 0.4946 - accuracy: 0.8735\n",
      "Epoch 14/100\n",
      "5165/5165 [==============================] - 7s 1ms/step - loss: 0.4946 - accuracy: 0.8735\n",
      "Epoch 15/100\n",
      "5165/5165 [==============================] - 7s 1ms/step - loss: 0.4938 - accuracy: 0.8735\n",
      "Epoch 16/100\n",
      "5165/5165 [==============================] - 7s 1ms/step - loss: 0.4947 - accuracy: 0.8736\n",
      "Epoch 17/100\n",
      "5165/5165 [==============================] - 7s 1ms/step - loss: 0.4928 - accuracy: 0.8735\n",
      "Epoch 18/100\n",
      "5165/5165 [==============================] - 7s 1ms/step - loss: 0.4918 - accuracy: 0.8735\n",
      "Epoch 19/100\n",
      "5165/5165 [==============================] - 7s 1ms/step - loss: 0.4916 - accuracy: 0.8736\n",
      "Epoch 20/100\n",
      "5165/5165 [==============================] - 7s 1ms/step - loss: 0.4910 - accuracy: 0.8737\n",
      "Epoch 21/100\n",
      "5165/5165 [==============================] - 7s 1ms/step - loss: 0.4913 - accuracy: 0.8736\n",
      "Epoch 22/100\n",
      "5165/5165 [==============================] - 7s 1ms/step - loss: 0.4910 - accuracy: 0.8736\n",
      "Epoch 23/100\n",
      "5165/5165 [==============================] - 7s 1ms/step - loss: 0.4912 - accuracy: 0.8736\n",
      "Epoch 24/100\n",
      "5165/5165 [==============================] - 7s 1ms/step - loss: 0.4910 - accuracy: 0.8737\n",
      "Epoch 25/100\n",
      "5165/5165 [==============================] - 8s 2ms/step - loss: 0.4915 - accuracy: 0.8736\n",
      "Epoch 26/100\n",
      "5165/5165 [==============================] - 7s 1ms/step - loss: 0.4916 - accuracy: 0.8735\n",
      "Epoch 27/100\n",
      "5165/5165 [==============================] - 7s 1ms/step - loss: 0.4927 - accuracy: 0.8735\n",
      "Epoch 28/100\n",
      "5165/5165 [==============================] - 7s 1ms/step - loss: 0.4915 - accuracy: 0.8736\n",
      "Epoch 29/100\n",
      "5165/5165 [==============================] - 7s 1ms/step - loss: 0.4911 - accuracy: 0.8736\n",
      "Epoch 30/100\n",
      "5165/5165 [==============================] - 7s 1ms/step - loss: 0.4921 - accuracy: 0.8736\n",
      "Epoch 31/100\n",
      "5165/5165 [==============================] - 7s 1ms/step - loss: 0.4910 - accuracy: 0.8737\n",
      "Epoch 32/100\n",
      "5165/5165 [==============================] - 7s 1ms/step - loss: 0.4909 - accuracy: 0.8737\n",
      "Epoch 33/100\n",
      "5165/5165 [==============================] - 7s 1ms/step - loss: 0.4917 - accuracy: 0.8736\n",
      "Epoch 34/100\n",
      "5165/5165 [==============================] - 7s 1ms/step - loss: 0.4907 - accuracy: 0.8737\n",
      "Epoch 35/100\n",
      "5165/5165 [==============================] - 8s 1ms/step - loss: 0.4910 - accuracy: 0.8737\n",
      "Epoch 36/100\n",
      "5165/5165 [==============================] - 7s 1ms/step - loss: 0.4919 - accuracy: 0.8736\n",
      "Epoch 37/100\n",
      "5165/5165 [==============================] - 7s 1ms/step - loss: 0.4909 - accuracy: 0.8737\n",
      "Epoch 38/100\n",
      "5165/5165 [==============================] - 7s 1ms/step - loss: 0.4915 - accuracy: 0.8736\n",
      "Epoch 39/100\n",
      "5165/5165 [==============================] - 8s 1ms/step - loss: 0.4910 - accuracy: 0.8737\n",
      "Epoch 40/100\n",
      "5165/5165 [==============================] - 8s 1ms/step - loss: 0.4910 - accuracy: 0.8736\n",
      "Epoch 41/100\n",
      "5165/5165 [==============================] - 7s 1ms/step - loss: 0.4908 - accuracy: 0.8737\n",
      "Epoch 42/100\n",
      "5165/5165 [==============================] - 7s 1ms/step - loss: 0.4906 - accuracy: 0.8737\n",
      "Epoch 43/100\n",
      "5165/5165 [==============================] - 7s 1ms/step - loss: 0.4913 - accuracy: 0.8737\n",
      "Epoch 44/100\n",
      "5165/5165 [==============================] - 7s 1ms/step - loss: 0.4907 - accuracy: 0.8737\n",
      "Epoch 45/100\n",
      "5165/5165 [==============================] - 7s 1ms/step - loss: 0.4908 - accuracy: 0.8737\n",
      "Epoch 46/100\n",
      "5165/5165 [==============================] - 7s 1ms/step - loss: 0.4913 - accuracy: 0.8737\n",
      "Epoch 47/100\n",
      "5165/5165 [==============================] - 7s 1ms/step - loss: 0.4910 - accuracy: 0.8737\n",
      "Epoch 48/100\n",
      "5165/5165 [==============================] - 6s 1ms/step - loss: 0.4919 - accuracy: 0.8736\n",
      "Epoch 49/100\n",
      "5165/5165 [==============================] - 6s 1ms/step - loss: 0.4909 - accuracy: 0.8737\n",
      "Epoch 50/100\n",
      "5165/5165 [==============================] - 6s 1ms/step - loss: 0.4913 - accuracy: 0.8737\n",
      "Epoch 51/100\n",
      "5165/5165 [==============================] - 7s 1ms/step - loss: 0.4905 - accuracy: 0.8737\n",
      "Epoch 52/100\n",
      "5165/5165 [==============================] - 7s 1ms/step - loss: 0.4910 - accuracy: 0.8737\n",
      "Epoch 53/100\n",
      "5165/5165 [==============================] - 7s 1ms/step - loss: 0.4906 - accuracy: 0.8738\n",
      "Epoch 54/100\n",
      "5165/5165 [==============================] - 7s 1ms/step - loss: 0.4910 - accuracy: 0.8736\n",
      "Epoch 55/100\n",
      "5165/5165 [==============================] - 7s 1ms/step - loss: 0.4906 - accuracy: 0.8738\n",
      "Epoch 56/100\n",
      "5165/5165 [==============================] - 7s 1ms/step - loss: 0.4910 - accuracy: 0.8736\n",
      "Epoch 57/100\n",
      "5165/5165 [==============================] - 7s 1ms/step - loss: 0.4911 - accuracy: 0.8737\n",
      "Epoch 58/100\n",
      "5165/5165 [==============================] - 7s 1ms/step - loss: 0.4910 - accuracy: 0.8737\n",
      "Epoch 59/100\n",
      "5165/5165 [==============================] - 7s 1ms/step - loss: 0.4912 - accuracy: 0.8737\n",
      "Epoch 60/100\n",
      "5165/5165 [==============================] - 7s 1ms/step - loss: 0.4905 - accuracy: 0.8738\n",
      "Epoch 61/100\n",
      "5165/5165 [==============================] - 7s 1ms/step - loss: 0.4913 - accuracy: 0.8737\n",
      "Epoch 62/100\n",
      "5165/5165 [==============================] - 7s 1ms/step - loss: 0.4916 - accuracy: 0.8737\n",
      "Epoch 63/100\n",
      "5165/5165 [==============================] - 7s 1ms/step - loss: 0.4919 - accuracy: 0.8736\n",
      "Epoch 64/100\n",
      "5165/5165 [==============================] - 7s 1ms/step - loss: 0.4908 - accuracy: 0.8737\n",
      "Epoch 65/100\n",
      "5165/5165 [==============================] - 7s 1ms/step - loss: 0.4908 - accuracy: 0.8738\n",
      "Epoch 66/100\n",
      "5165/5165 [==============================] - 7s 1ms/step - loss: 0.4906 - accuracy: 0.8737\n",
      "Epoch 67/100\n",
      "5165/5165 [==============================] - 7s 1ms/step - loss: 0.4909 - accuracy: 0.8737\n",
      "Epoch 68/100\n",
      "5165/5165 [==============================] - 7s 1ms/step - loss: 0.4911 - accuracy: 0.8737\n",
      "Epoch 69/100\n",
      "5165/5165 [==============================] - 7s 1ms/step - loss: 0.4911 - accuracy: 0.8737\n",
      "Epoch 70/100\n",
      "5165/5165 [==============================] - 7s 1ms/step - loss: 0.4911 - accuracy: 0.8737\n",
      "Epoch 71/100\n",
      "5165/5165 [==============================] - 7s 1ms/step - loss: 0.4905 - accuracy: 0.8738\n",
      "Epoch 72/100\n",
      "5165/5165 [==============================] - 7s 1ms/step - loss: 0.4912 - accuracy: 0.8737\n",
      "Epoch 73/100\n",
      "5165/5165 [==============================] - 7s 1ms/step - loss: 0.4911 - accuracy: 0.8737\n",
      "Epoch 74/100\n",
      "5165/5165 [==============================] - 7s 1ms/step - loss: 0.4910 - accuracy: 0.8737\n",
      "Epoch 75/100\n",
      "5165/5165 [==============================] - 7s 1ms/step - loss: 0.4905 - accuracy: 0.8738\n",
      "Epoch 76/100\n",
      "5165/5165 [==============================] - 7s 1ms/step - loss: 0.4907 - accuracy: 0.8738\n",
      "Epoch 77/100\n",
      "5165/5165 [==============================] - 7s 1ms/step - loss: 0.4916 - accuracy: 0.8736\n",
      "Epoch 78/100\n",
      "5165/5165 [==============================] - 7s 1ms/step - loss: 0.4910 - accuracy: 0.8737\n",
      "Epoch 79/100\n",
      "5165/5165 [==============================] - 7s 1ms/step - loss: 0.4907 - accuracy: 0.8737\n"
     ]
    },
    {
     "name": "stdout",
     "output_type": "stream",
     "text": [
      "Epoch 80/100\n",
      "5165/5165 [==============================] - 7s 1ms/step - loss: 0.4906 - accuracy: 0.8738\n",
      "Epoch 81/100\n",
      "5165/5165 [==============================] - 7s 1ms/step - loss: 0.4905 - accuracy: 0.8738\n",
      "Epoch 82/100\n",
      "5165/5165 [==============================] - 7s 1ms/step - loss: 0.4907 - accuracy: 0.8738\n",
      "Epoch 83/100\n",
      "5165/5165 [==============================] - 7s 1ms/step - loss: 0.4910 - accuracy: 0.8737\n",
      "Epoch 84/100\n",
      "5165/5165 [==============================] - 7s 1ms/step - loss: 0.4909 - accuracy: 0.8738\n",
      "Epoch 85/100\n",
      "5165/5165 [==============================] - 7s 1ms/step - loss: 0.4906 - accuracy: 0.8737\n",
      "Epoch 86/100\n",
      "5165/5165 [==============================] - 7s 1ms/step - loss: 0.4912 - accuracy: 0.8737\n",
      "Epoch 87/100\n",
      "5165/5165 [==============================] - 7s 1ms/step - loss: 0.4907 - accuracy: 0.8737\n",
      "Epoch 88/100\n",
      "5165/5165 [==============================] - 7s 1ms/step - loss: 0.4904 - accuracy: 0.8738\n",
      "Epoch 89/100\n",
      "5165/5165 [==============================] - 7s 1ms/step - loss: 0.4916 - accuracy: 0.8736\n",
      "Epoch 90/100\n",
      "5165/5165 [==============================] - 7s 1ms/step - loss: 0.4904 - accuracy: 0.8738\n",
      "Epoch 91/100\n",
      "5165/5165 [==============================] - 7s 1ms/step - loss: 0.4909 - accuracy: 0.8737\n",
      "Epoch 92/100\n",
      "5165/5165 [==============================] - 7s 1ms/step - loss: 0.4909 - accuracy: 0.8738\n",
      "Epoch 93/100\n",
      "5165/5165 [==============================] - 7s 1ms/step - loss: 0.4914 - accuracy: 0.8737\n",
      "Epoch 94/100\n",
      "5165/5165 [==============================] - 7s 1ms/step - loss: 0.4902 - accuracy: 0.8738\n",
      "Epoch 95/100\n",
      "5165/5165 [==============================] - 7s 1ms/step - loss: 0.4911 - accuracy: 0.8737\n",
      "Epoch 96/100\n",
      "5165/5165 [==============================] - 7s 1ms/step - loss: 0.4904 - accuracy: 0.8738\n",
      "Epoch 97/100\n",
      "5165/5165 [==============================] - 7s 1ms/step - loss: 0.4909 - accuracy: 0.8737\n",
      "Epoch 98/100\n",
      "5165/5165 [==============================] - 7s 1ms/step - loss: 0.4907 - accuracy: 0.8738\n",
      "Epoch 99/100\n",
      "5165/5165 [==============================] - 7s 1ms/step - loss: 0.4903 - accuracy: 0.8738\n",
      "Epoch 100/100\n",
      "5165/5165 [==============================] - 7s 1ms/step - loss: 0.4905 - accuracy: 0.8738\n"
     ]
    },
    {
     "data": {
      "text/plain": [
       "<keras.callbacks.History at 0x7f022945e670>"
      ]
     },
     "execution_count": 102,
     "metadata": {},
     "output_type": "execute_result"
    }
   ],
   "source": [
    "# model definition\n",
    "model = ml.Sequential()\n",
    "model.add(l.Dense(256, input_dim=x_train.shape[1], activation = 'relu'))\n",
    "model.add(l.Dense(12, activation='softmax'))\n",
    "\n",
    "# model compile\n",
    "model.compile(loss='categorical_crossentropy', optimizer='adam', metrics='accuracy')\n",
    "\n",
    "# train model\n",
    "model.fit(x_train, y_train_nn, epochs=100)"
   ]
  },
  {
   "cell_type": "markdown",
   "id": "ac8dde3e",
   "metadata": {},
   "source": [
    "### 5.2.1. NN Performance"
   ]
  },
  {
   "cell_type": "code",
   "execution_count": 103,
   "id": "005d631e",
   "metadata": {
    "ExecuteTime": {
     "end_time": "2023-01-23T18:22:34.616424Z",
     "start_time": "2023-01-23T18:22:32.540429Z"
    }
   },
   "outputs": [
    {
     "name": "stdout",
     "output_type": "stream",
     "text": [
      "1292/1292 [==============================] - 1s 839us/step\n"
     ]
    }
   ],
   "source": [
    "# predição\n",
    "pred_nn = model.predict(x_test)\n",
    "\n",
    "# inverter valores dummy para os classificadores da predição\n",
    "yhat_nn = ohe.inverse_transform(pred_nn)\n",
    "\n",
    "# preparar predição\n",
    "yhat_nn = yhat_nn.reshape(1, -1)[0]\n",
    "y_test_nn = y_test.to_numpy()"
   ]
  },
  {
   "cell_type": "code",
   "execution_count": 104,
   "id": "5e1afe53",
   "metadata": {
    "ExecuteTime": {
     "end_time": "2023-01-23T18:22:39.206264Z",
     "start_time": "2023-01-23T18:22:37.993206Z"
    }
   },
   "outputs": [
    {
     "name": "stdout",
     "output_type": "stream",
     "text": [
      "Accuracy: 0.8754326096952976\n",
      "Balanced Accuracy: 0.1666394535608349\n",
      "Kappa Metrics: 0.7692558653555841\n"
     ]
    },
    {
     "data": {
      "text/plain": [
       "<AxesSubplot: title={'center': 'Confusion Matrix'}, xlabel='Predicted label', ylabel='True label'>"
      ]
     },
     "execution_count": 104,
     "metadata": {},
     "output_type": "execute_result"
    },
    {
     "data": {
      "image/png": "[encoded data removed]",
      "text/plain": [
       "<Figure size 1000x1000 with 2 Axes>"
      ]
     },
     "metadata": {},
     "output_type": "display_data"
    }
   ],
   "source": [
    "# Accuracy\n",
    "acc_nn = m.accuracy_score(y_test_nn, yhat_nn)\n",
    "print(f'Accuracy: {acc_nn}')\n",
    "\n",
    "# Balanced Accuracy\n",
    "balanced_acc_nn = m.balanced_accuracy_score(y_test_nn, yhat_nn)\n",
    "print(f'Balanced Accuracy: {balanced_acc_nn}')\n",
    "\n",
    "# Kappa Metrics\n",
    "kappa_nn = m.cohen_kappa_score(y_test_nn, yhat_nn)\n",
    "print(f'Kappa Metrics: {kappa_nn}')\n",
    "\n",
    "# Confusion Matrix\n",
    "mt.plot_confusion_matrix(y_test_nn, yhat_nn, normalize=False, figsize=(10,10))"
   ]
  },
  {
   "cell_type": "markdown",
   "id": "9077d17e",
   "metadata": {},
   "source": [
    "### 5.2.3. NN Performance - Cross-Validation"
   ]
  },
  {
   "cell_type": "code",
   "execution_count": 72,
   "id": "20be02b9",
   "metadata": {
    "ExecuteTime": {
     "end_time": "2023-01-19T20:12:07.604556Z",
     "start_time": "2023-01-19T20:01:00.703445Z"
    }
   },
   "outputs": [
    {
     "name": "stdout",
     "output_type": "stream",
     "text": [
      "Numero Fold: 1/5\n"
     ]
    },
    {
     "name": "stderr",
     "output_type": "stream",
     "text": [
      "2023-01-19 17:01:00.887082: W tensorflow/tsl/framework/cpu_allocator_impl.cc:82] Allocation of 39090688 exceeds 10% of free system memory.\n"
     ]
    },
    {
     "name": "stdout",
     "output_type": "stream",
     "text": [
      "341/341 [==============================] - 0s 960us/step\n",
      "Numero Fold: 2/5\n",
      "341/341 [==============================] - 0s 854us/step\n",
      "Numero Fold: 3/5\n",
      "341/341 [==============================] - 0s 885us/step\n",
      "Numero Fold: 4/5\n",
      "341/341 [==============================] - 0s 868us/step\n",
      "Numero Fold: 5/5\n",
      "341/341 [==============================] - 0s 831us/step\n"
     ]
    }
   ],
   "source": [
    "# gerar k-fold\n",
    "num_folds = 5\n",
    "kfold = ms.StratifiedKFold(n_splits=num_folds, shuffle=True, random_state=32)\n",
    "\n",
    "balanced_acc_list = []\n",
    "kappa_acc_list = []\n",
    "\n",
    "i = 1\n",
    "for train_ix, val_ix in kfold.split(x_train, y_train):\n",
    "    print(f'Numero Fold: {i}/{num_folds}')\n",
    "    \n",
    "    # recuperar fold\n",
    "    x_train_fold = x_train.iloc[train_ix]\n",
    "    y_train_fold = y_train.iloc[train_ix]\n",
    "    \n",
    "    x_val_fold = x_train.iloc[val_ix]\n",
    "    y_val_fold = y_train.iloc[val_ix]\n",
    "    \n",
    "    # target hot-encoding\n",
    "    ohe = pp.OneHotEncoder()\n",
    "    y_train_fold_nn = ohe.fit_transform(y_train_fold.values.reshape(-1, 1)).toarray()\n",
    "\n",
    "    # definir modelo\n",
    "    model = ml.Sequential()\n",
    "    model.add(l.Dense(256, input_dim=x_train.shape[1], activation='relu'))\n",
    "    model.add(l.Dense(11, activation='softmax'))\n",
    "\n",
    "    # compilar modelo\n",
    "    model.compile(loss='categorical_crossentropy', optimizer='adam', metrics=['accuracy'])\n",
    "\n",
    "    # treinar modelo\n",
    "    model.fit(x_train_fold, y_train_fold_nn, epochs=100, batch_size=32, verbose=0)\n",
    "\n",
    "    # predição\n",
    "    pred_nn = model.predict(x_val_fold)\n",
    "    yhat_nn = ohe.inverse_transform(pred_nn)\n",
    "    \n",
    "    # preparar dados\n",
    "    y_test_nn = y_val_fold.to_numpy()\n",
    "    yhat_nn = ohe.inverse_transform(pred_nn)\n",
    "\n",
    "    # métricas\n",
    "    \n",
    "    ## Balanced Accuracy\n",
    "    balanced_acc_nn = m.balanced_accuracy_score(y_test_nn, yhat_nn)\n",
    "    balanced_acc_list.append(balanced_acc_nn)\n",
    "    \n",
    "    ## Kappa Metrics\n",
    "    kappa_acc_nn = m.cohen_kappa_score(y_test_nn, yhat_nn)\n",
    "    kappa_acc_list.append(kappa_acc_nn)\n",
    "    \n",
    "    i += 1\n",
    "    "
   ]
  },
  {
   "cell_type": "code",
   "execution_count": 95,
   "id": "5545e3dd",
   "metadata": {
    "ExecuteTime": {
     "end_time": "2023-01-19T21:12:48.602000Z",
     "start_time": "2023-01-19T21:12:48.598333Z"
    }
   },
   "outputs": [
    {
     "name": "stdout",
     "output_type": "stream",
     "text": [
      "Media Balanced Accuracy: 0.0916 +/- 0.0002\n",
      "Media Kappa: 0.0035 +/- 0.0022\n"
     ]
    }
   ],
   "source": [
    "print(f'Media Balanced Accuracy: {np.round(np.mean(balanced_acc_list), 4)} +/- {np.round(np.std(balanced_acc_list), 4)}')\n",
    "print(f'Media Kappa: {np.round(np.mean(kappa_acc_list), 4)} +/- {np.round(np.std(kappa_acc_list), 4)}')"
   ]
  },
  {
   "cell_type": "code",
   "execution_count": null,
   "id": "a2acf356",
   "metadata": {},
   "outputs": [],
   "source": []
  },
  {
   "cell_type": "code",
   "execution_count": null,
   "id": "1a22ffe7",
   "metadata": {},
   "outputs": [],
   "source": []
  }
 ],
 "metadata": {
  "kernelspec": {
   "display_name": "Python 3 (ipykernel)",
   "language": "python",
   "name": "python3"
  },
  "language_info": {
   "codemirror_mode": {
    "name": "ipython",
    "version": 3
   },
   "file_extension": ".py",
   "mimetype": "text/x-python",
   "name": "python",
   "nbconvert_exporter": "python",
   "pygments_lexer": "ipython3",
   "version": "3.8.0"
  }
 },
 "nbformat": 4,
 "nbformat_minor": 5
}
